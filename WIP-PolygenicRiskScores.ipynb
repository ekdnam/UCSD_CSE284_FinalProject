{
 "cells": [
  {
   "cell_type": "code",
   "execution_count": 1,
   "id": "bd8e7e20",
   "metadata": {},
   "outputs": [
    {
     "name": "stdout",
     "output_type": "stream",
     "text": [
      "Cloning into 'UCSD_CSE284_FinalProject'...\n",
      "remote: Enumerating objects: 30, done.\u001b[K\n",
      "remote: Counting objects: 100% (30/30), done.\u001b[K\n",
      "remote: Compressing objects: 100% (22/22), done.\u001b[K\n",
      "remote: Total 30 (delta 9), reused 16 (delta 5), pack-reused 0\u001b[K\n",
      "Unpacking objects: 100% (30/30), 348.45 KiB | 1.12 MiB/s, done.\n"
     ]
    }
   ],
   "source": [
    "!git clone https://github.com/ekdnam/UCSD_CSE284_FinalProject.git"
   ]
  },
  {
   "cell_type": "code",
   "execution_count": 2,
   "id": "304a3c97",
   "metadata": {},
   "outputs": [
    {
     "name": "stdout",
     "output_type": "stream",
     "text": [
      "/home/amandke/teams/group-23/UCSD_CSE284_FinalProject\n"
     ]
    }
   ],
   "source": [
    "%cd UCSD_CSE284_FinalProject"
   ]
  },
  {
   "cell_type": "code",
   "execution_count": 3,
   "id": "688f5f05",
   "metadata": {},
   "outputs": [
    {
     "name": "stdout",
     "output_type": "stream",
     "text": [
      "analysis  LICENSE  README.md  test.md  utils\r\n"
     ]
    }
   ],
   "source": [
    "!ls"
   ]
  },
  {
   "cell_type": "code",
   "execution_count": 4,
   "id": "ad7e0af6",
   "metadata": {},
   "outputs": [
    {
     "name": "stdout",
     "output_type": "stream",
     "text": [
      "Downloading https://library.ucsd.edu/dc/object/bb9156620z/_1_1.txt...\n",
      "Saved readme to /home/amandke/teams/group-23/data/bmi/readme.txt\n",
      "Downloading https://library.ucsd.edu/dc/object/bb9156620z/_2_1.zip...\n",
      "Saved phenotype_data to /home/amandke/teams/group-23/data/bmi/phenotype_data.zip\n",
      "Extracted phenotype_data\n",
      "Downloading https://library.ucsd.edu/dc/object/bb9156620z/_3_1.zip...\n",
      "Saved ld_pruned_genotype_data to /home/amandke/teams/group-23/data/bmi/ld_pruned_genotype_data.zip\n",
      "Extracted ld_pruned_genotype_data\n",
      "Downloading https://library.ucsd.edu/dc/object/bb9156620z/_5_1.zip...\n",
      "Saved genetic_relatedness_matrix to /home/amandke/teams/group-23/data/bmi/genetic_relatedness_matrix.zip\n",
      "Extracted genetic_relatedness_matrix\n",
      "Downloading https://library.ucsd.edu/dc/object/bb9156620z/_6_1.zip...\n",
      "Saved gwas_summary_files to /home/amandke/teams/group-23/data/bmi/gwas_summary_files.zip\n",
      "Extracted gwas_summary_files\n"
     ]
    }
   ],
   "source": [
    "!python utils/download_data.py"
   ]
  },
  {
   "cell_type": "code",
   "execution_count": 9,
   "id": "b0820c9d",
   "metadata": {},
   "outputs": [],
   "source": [
    "%mv ../data ./data"
   ]
  },
  {
   "cell_type": "code",
   "execution_count": 10,
   "id": "c293f533",
   "metadata": {},
   "outputs": [],
   "source": [
    "%%bash\n",
    "\n",
    "cd data\n",
    "rm -rf data\n",
    "cd .."
   ]
  },
  {
   "cell_type": "code",
   "execution_count": 13,
   "id": "81b8a9ce",
   "metadata": {},
   "outputs": [
    {
     "name": "stdout",
     "output_type": "stream",
     "text": [
      "Archive:  data/bmi/ld_pruned_genotype_data/LD_pruned_PLINK.zip\n",
      "  inflating: data/bmi/ld_pruned_genotype_data/LD_pruned_PLINK/P50_round2_LD_pruned_3473.bed  \n",
      "  inflating: data/bmi/ld_pruned_genotype_data/LD_pruned_PLINK/P50_round2_LD_pruned_3473.bim  \n",
      "  inflating: data/bmi/ld_pruned_genotype_data/LD_pruned_PLINK/P50_round2_LD_pruned_3473.fam  \n"
     ]
    }
   ],
   "source": [
    "%%bash\n",
    "\n",
    "unzip data/bmi/ld_pruned_genotype_data/LD_pruned_PLINK.zip -d data/bmi/ld_pruned_genotype_data/LD_pruned_PLINK"
   ]
  },
  {
   "cell_type": "code",
   "execution_count": 15,
   "id": "8e6d3e1b",
   "metadata": {},
   "outputs": [
    {
     "name": "stdout",
     "output_type": "stream",
     "text": [
      "PLINK v1.90b6.9 64-bit (4 Mar 2019)            www.cog-genomics.org/plink/1.9/\n",
      "(C) 2005-2019 Shaun Purcell, Christopher Chang   GNU General Public License v3\n",
      "Logging to plink.log.\n",
      "Options in effect:\n",
      "  --bfile data/bmi/ld_pruned_genotype_data/LD_pruned_PLINK/P50_round2_LD_pruned_3473\n",
      "  --score data/bmi/gwas_summary_files/physiological_bmi_bodylength_w_tail.csv\n",
      "\n",
      "385394 MB RAM detected; reserving 192697 MB for main workspace.\n",
      "128401 variants loaded from .bim file.\n",
      "3473 people (0 males, 0 females, 3473 ambiguous) loaded from .fam.\n",
      "Ambiguous sex IDs written to plink.nosex .\n",
      "Using 1 thread (no multithreaded calculations invoked).\n",
      "Before main variant filters, 3473 founders and 0 nonfounders present.\n",
      "Calculating allele frequencies... 10111213141516171819202122232425262728293031323334353637383940414243444546474849505152535455565758596061626364656667686970717273747576777879808182838485868788899091929394959697989 done.\n",
      "Total genotyping rate is 0.977223.\n",
      "128401 variants and 3473 people pass filters and QC.\n",
      "Note: No phenotypes present.\n",
      "Error: Line 1 of --score file has fewer tokens than expected.\n"
     ]
    }
   ],
   "source": [
    "!plink --bfile data/bmi/ld_pruned_genotype_data/LD_pruned_PLINK/P50_round2_LD_pruned_3473 --score data/bmi/gwas_summary_files/physiological_bmi_bodylength_w_tail.csv"
   ]
  },
  {
   "cell_type": "code",
   "execution_count": 82,
   "id": "c7dee746",
   "metadata": {},
   "outputs": [
    {
     "name": "stdout",
     "output_type": "stream",
     "text": [
      "Index(['chr', 'rs', 'ps', 'n_miss', 'allele1', 'allele0', 'af', 'beta', 'se',\n",
      "       'logl_H1', 'l_remle', 'l_mle', 'p_wald', 'p_lrt', 'p_score'],\n",
      "      dtype='object')\n"
     ]
    }
   ],
   "source": [
    "import pandas as pd\n",
    "\n",
    "# Read the CSV file\n",
    "data = pd.read_csv(\"data/bmi/gwas_summary_files/physiological_bmi_bodylength_w_tail.csv\")\n",
    "\n",
    "print(data.columns)\n",
    "\n",
    "data.rename(columns={\n",
    "    'chr': 'CHR',\n",
    "    'rs': 'SNP',\n",
    "    'ps': 'BP',\n",
    "    'allele1': 'A1',\n",
    "    'n_miss': 'NMISS',\n",
    "    'beta': 'BETA',\n",
    "    'p_score': 'P',\n",
    "    'se': 'STAT'\n",
    "}, inplace=True)\n",
    "\n",
    "data['TEST'] = 'ADD'\n",
    "\n",
    "# def getSNPDataInFormat(text):\n",
    "#     return 'rs' + text.split(':')[1]\n",
    "# data['SNP'] = data['SNP'].apply(getSNPDataInFormat)\n",
    "\n",
    "def getChromo(text):\n",
    "    return text[3:]\n",
    "data['CHR'] = data['CHR'].apply(getChromo)\n",
    "\n",
    "prs_data = data[['CHR', 'SNP', 'BP', 'A1', 'TEST', 'NMISS', 'BETA', 'STAT', 'P']]\n",
    "prs_data.to_csv('prs_profile.txt', sep='\\t', index=False)"
   ]
  },
  {
   "cell_type": "code",
   "execution_count": 83,
   "id": "8d2756a9",
   "metadata": {},
   "outputs": [
    {
     "data": {
      "text/plain": [
       "CHR      0\n",
       "SNP      0\n",
       "BP       0\n",
       "A1       0\n",
       "TEST     0\n",
       "NMISS    0\n",
       "BETA     0\n",
       "STAT     0\n",
       "P        0\n",
       "dtype: int64"
      ]
     },
     "execution_count": 83,
     "metadata": {},
     "output_type": "execute_result"
    }
   ],
   "source": [
    "prs_data.isnull().sum()"
   ]
  },
  {
   "cell_type": "code",
   "execution_count": 84,
   "id": "1a56b9f8",
   "metadata": {},
   "outputs": [
    {
     "name": "stdout",
     "output_type": "stream",
     "text": [
      "CHR\tSNP\tBP\tA1\tTEST\tNMISS\tBETA\tSTAT\tP\r\n",
      "10\tchr10:149435\t149435\tT\tADD\t0\t-0.01629\t0.04226491\t0.6998544\r\n",
      "10\tchr10:767532\t767532\tC\tADD\t0\t0.006059489\t0.02846176\t0.8313591\r\n",
      "10\tchr10:790368\t790368\tA\tADD\t0\t-0.00437748\t0.02779503\t0.8748224\r\n",
      "10\tchr10:811265\t811265\tC\tADD\t0\t-0.01498814\t0.04221732\t0.7225071\r\n",
      "10\tchr10:823144\t823144\tA\tADD\t0\t-0.00302855\t0.02957101\t0.9184339\r\n",
      "10\tchr10:844370\t844370\tA\tADD\t0\t-0.01551603\t0.02760017\t0.5739285\r\n",
      "10\tchr10:1063169\t1063169\tT\tADD\t0\t-0.00988367\t0.04196929\t0.8137927\r\n",
      "10\tchr10:1208550\t1208550\tT\tADD\t0\t-0.004582114\t0.04214328\t0.9133983\r\n",
      "10\tchr10:1209565\t1209565\tA\tADD\t0\t-0.005666175\t0.04166476\t0.8918095\r\n"
     ]
    }
   ],
   "source": [
    "!head prs_profile.txt"
   ]
  },
  {
   "cell_type": "code",
   "execution_count": 86,
   "id": "0ed51efd",
   "metadata": {},
   "outputs": [
    {
     "name": "stdout",
     "output_type": "stream",
     "text": [
      "10\tchr10:149435\t0\t149435\tC\tT\r\n"
     ]
    }
   ],
   "source": [
    "!grep data/bmi/ld_pruned_genotype_data/LD_pruned_PLINK/P50_round2_LD_pruned_3473.bim -e '149435'"
   ]
  },
  {
   "cell_type": "code",
   "execution_count": 88,
   "id": "bbcba9e5",
   "metadata": {},
   "outputs": [
    {
     "name": "stdout",
     "output_type": "stream",
     "text": [
      "10\tchr10:149435\t149435\tT\tADD\t0\t-0.01629\t0.04226491\t0.6998544\r\n",
      "8\tchr8:128832975\t128832975\tT\tADD\t0\t-0.001494351\t0.02746482\t0.9564317\r\n"
     ]
    }
   ],
   "source": [
    "!grep prs_profile.txt -e '149435'"
   ]
  },
  {
   "cell_type": "code",
   "execution_count": 89,
   "id": "29cbf847",
   "metadata": {},
   "outputs": [],
   "source": [
    "!awk 'NR!=1{print $2}' data/bmi/ld_pruned_genotype_data/LD_pruned_PLINK/P50_round2_LD_pruned_3473.bim > LD_pruned.valid.snp"
   ]
  },
  {
   "cell_type": "code",
   "execution_count": 90,
   "id": "109ac171",
   "metadata": {},
   "outputs": [
    {
     "name": "stdout",
     "output_type": "stream",
     "text": [
      "chr1:275972\r\n",
      "chr1:475912\r\n",
      "chr1:759319\r\n",
      "chr1:835524\r\n",
      "chr1:923940\r\n",
      "chr1:1129973\r\n",
      "chr1:1131973\r\n",
      "chr1:1132321\r\n",
      "chr1:1142175\r\n",
      "chr1:1144595\r\n"
     ]
    }
   ],
   "source": [
    "!head LD_pruned.valid.snp"
   ]
  },
  {
   "cell_type": "code",
   "execution_count": 91,
   "id": "9a1c131b",
   "metadata": {},
   "outputs": [
    {
     "name": "stdout",
     "output_type": "stream",
     "text": [
      "CHR\tSNP\tBP\tA1\tTEST\tNMISS\tBETA\tSTAT\tP\r\n",
      "10\tchr10:149435\t149435\tT\tADD\t0\t-0.01629\t0.04226491\t0.6998544\r\n",
      "10\tchr10:767532\t767532\tC\tADD\t0\t0.006059489\t0.02846176\t0.8313591\r\n",
      "10\tchr10:790368\t790368\tA\tADD\t0\t-0.00437748\t0.02779503\t0.8748224\r\n",
      "10\tchr10:811265\t811265\tC\tADD\t0\t-0.01498814\t0.04221732\t0.7225071\r\n",
      "10\tchr10:823144\t823144\tA\tADD\t0\t-0.00302855\t0.02957101\t0.9184339\r\n",
      "10\tchr10:844370\t844370\tA\tADD\t0\t-0.01551603\t0.02760017\t0.5739285\r\n",
      "10\tchr10:1063169\t1063169\tT\tADD\t0\t-0.00988367\t0.04196929\t0.8137927\r\n",
      "10\tchr10:1208550\t1208550\tT\tADD\t0\t-0.004582114\t0.04214328\t0.9133983\r\n",
      "10\tchr10:1209565\t1209565\tA\tADD\t0\t-0.005666175\t0.04166476\t0.8918095\r\n"
     ]
    }
   ],
   "source": [
    "!head prs_profile.txt"
   ]
  },
  {
   "cell_type": "code",
   "execution_count": 97,
   "id": "79f46eac",
   "metadata": {},
   "outputs": [],
   "source": []
  },
  {
   "cell_type": "code",
   "execution_count": 98,
   "id": "7da80602",
   "metadata": {},
   "outputs": [
    {
     "name": "stdout",
     "output_type": "stream",
     "text": [
      "chr10:149435\t0.6998544\r\n",
      "chr10:767532\t0.8313591\r\n",
      "chr10:790368\t0.8748224\r\n",
      "chr10:811265\t0.7225071\r\n",
      "chr10:823144\t0.9184339\r\n",
      "chr10:844370\t0.5739285\r\n",
      "chr10:1063169\t0.8137927\r\n",
      "chr10:1208550\t0.9133983\r\n",
      "chr10:1209565\t0.8918095\r\n",
      "chr10:1268603\t0.7835767\r\n"
     ]
    }
   ],
   "source": []
  },
  {
   "cell_type": "code",
   "execution_count": 99,
   "id": "ee5bcc23",
   "metadata": {
    "scrolled": true
   },
   "outputs": [
    {
     "name": "stdout",
     "output_type": "stream",
     "text": [
      "PLINK v1.90b6.9 64-bit (4 Mar 2019)            www.cog-genomics.org/plink/1.9/\n",
      "(C) 2005-2019 Shaun Purcell, Christopher Chang   GNU General Public License v3\n",
      "Logging to BMI.log.\n",
      "Options in effect:\n",
      "  --bfile data/bmi/ld_pruned_genotype_data/LD_pruned_PLINK/P50_round2_LD_pruned_3473\n",
      "  --extract LD_pruned.valid.snp\n",
      "  --out BMI\n",
      "  --score prs_profile.txt header 2 4 7\n",
      "\n",
      "385394 MB RAM detected; reserving 192697 MB for main workspace.\n",
      "128401 variants loaded from .bim file.\n",
      "3473 people (0 males, 0 females, 3473 ambiguous) loaded from .fam.\n",
      "Ambiguous sex IDs written to BMI.nosex .\n",
      "--extract: 128400 variants remaining.\n",
      "Using 1 thread (no multithreaded calculations invoked).\n",
      "Before main variant filters, 3473 founders and 0 nonfounders present.\n",
      "Calculating allele frequencies... 0%\b\b1%\b\b2%\b\b3%\b\b4%\b\b5%\b\b6%\b\b7%\b\b8%\b\b9%\b\b10%\b\b\b11%\b\b\b12%\b\b\b13%\b\b\b14%\b\b\b15%\b\b\b16%\b\b\b17%\b\b\b18%\b\b\b19%\b\b\b20%\b\b\b21%\b\b\b22%\b\b\b23%\b\b\b24%\b\b\b25%\b\b\b26%\b\b\b27%\b\b\b28%\b\b\b29%\b\b\b30%\b\b\b31%\b\b\b32%\b\b\b33%\b\b\b34%\b\b\b35%\b\b\b36%\b\b\b37%\b\b\b38%\b\b\b39%\b\b\b40%\b\b\b41%\b\b\b42%\b\b\b43%\b\b\b44%\b\b\b45%\b\b\b46%\b\b\b47%\b\b\b48%\b\b\b49%\b\b\b50%\b\b\b51%\b\b\b52%\b\b\b53%\b\b\b54%\b\b\b55%\b\b\b56%\b\b\b57%\b\b\b58%\b\b\b59%\b\b\b60%\b\b\b61%\b\b\b62%\b\b\b63%\b\b\b64%\b\b\b65%\b\b\b66%\b\b\b67%\b\b\b68%\b\b\b69%\b\b\b70%\b\b\b71%\b\b\b72%\b\b\b73%\b\b\b74%\b\b\b75%\b\b\b76%\b\b\b77%\b\b\b78%\b\b\b79%\b\b\b80%\b\b\b81%\b\b\b82%\b\b\b83%\b\b\b84%\b\b\b85%\b\b\b86%\b\b\b87%\b\b\b88%\b\b\b89%\b\b\b90%\b\b\b91%\b\b\b92%\b\b\b93%\b\b\b94%\b\b\b95%\b\b\b96%\b\b\b97%\b\b\b98%\b\b\b99%\b\b\b\b done.\n",
      "Total genotyping rate is 0.977223.\n",
      "128400 variants and 3473 people pass filters and QC.\n",
      "Note: No phenotypes present.\n",
      "--score: 123581 valid predictors loaded.\n",
      "--score: Results written to BMI.profile .\n"
     ]
    },
    {
     "name": "stderr",
     "output_type": "stream",
     "text": [
      "Warning: 1 line skipped in --score file (1 due to variant ID mismatch, 0 due to\n",
      "allele code mismatch); see BMI.nopred for details.\n"
     ]
    }
   ],
   "source": [
    "%%bash\n",
    "plink \\\n",
    "--bfile data/bmi/ld_pruned_genotype_data/LD_pruned_PLINK/P50_round2_LD_pruned_3473 \\\n",
    "--score prs_profile.txt header 2 4 7 \\\n",
    "--extract LD_pruned.valid.snp \\\n",
    "--out BMI"
   ]
  },
  {
   "cell_type": "code",
   "execution_count": null,
   "id": "1be84fca",
   "metadata": {},
   "outputs": [],
   "source": [
    "%%bash\n",
    "echo \"0.000001 0 0.000001\" > range_list \n",
    "echo \"0.00001 0 0.00001\" >> range_list \n",
    "echo \"0.0001 0 0.0001\" >> range_list \n",
    "echo \"0.001 0 0.001\" >> range_list \n",
    "echo \"0.05 0 0.05\" >> range_list\n",
    "echo \"0.1 0 0.1\" >> range_list"
   ]
  },
  {
   "cell_type": "code",
   "execution_count": 100,
   "id": "5b462a61",
   "metadata": {},
   "outputs": [],
   "source": [
    "!cat prs_profile.txt | awk 'NR!=1{print $2 \"\\t\" $9}' > BMI.pvals"
   ]
  },
  {
   "cell_type": "code",
   "execution_count": 101,
   "id": "7b430108",
   "metadata": {},
   "outputs": [
    {
     "name": "stdout",
     "output_type": "stream",
     "text": [
      "chr10:149435\t0.6998544\r\n",
      "chr10:767532\t0.8313591\r\n",
      "chr10:790368\t0.8748224\r\n",
      "chr10:811265\t0.7225071\r\n",
      "chr10:823144\t0.9184339\r\n",
      "chr10:844370\t0.5739285\r\n",
      "chr10:1063169\t0.8137927\r\n",
      "chr10:1208550\t0.9133983\r\n",
      "chr10:1209565\t0.8918095\r\n",
      "chr10:1268603\t0.7835767\r\n"
     ]
    }
   ],
   "source": [
    "!head BMI.pvals"
   ]
  },
  {
   "cell_type": "code",
   "execution_count": 102,
   "id": "67e4e07e",
   "metadata": {},
   "outputs": [
    {
     "name": "stdout",
     "output_type": "stream",
     "text": [
      "PLINK v1.90b6.9 64-bit (4 Mar 2019)            www.cog-genomics.org/plink/1.9/\n",
      "(C) 2005-2019 Shaun Purcell, Christopher Chang   GNU General Public License v3\n",
      "Logging to BMI.log.\n",
      "Options in effect:\n",
      "  --bfile data/bmi/ld_pruned_genotype_data/LD_pruned_PLINK/P50_round2_LD_pruned_3473\n",
      "  --extract LD_pruned.valid.snp\n",
      "  --out BMI\n",
      "  --q-score-range range_list BMI.pvals\n",
      "  --score prs_profile.txt header 2 4 7\n",
      "\n",
      "385394 MB RAM detected; reserving 192697 MB for main workspace.\n",
      "128401 variants loaded from .bim file.\n",
      "3473 people (0 males, 0 females, 3473 ambiguous) loaded from .fam.\n",
      "Ambiguous sex IDs written to BMI.nosex .\n",
      "--extract: 128400 variants remaining.\n",
      "Using 1 thread (no multithreaded calculations invoked).\n",
      "Before main variant filters, 3473 founders and 0 nonfounders present.\n",
      "Calculating allele frequencies... 0%\b\b1%\b\b2%\b\b3%\b\b4%\b\b5%\b\b6%\b\b7%\b\b8%\b\b9%\b\b10%\b\b\b11%\b\b\b12%\b\b\b13%\b\b\b14%\b\b\b15%\b\b\b16%\b\b\b17%\b\b\b18%\b\b\b19%\b\b\b20%\b\b\b21%\b\b\b22%\b\b\b23%\b\b\b24%\b\b\b25%\b\b\b26%\b\b\b27%\b\b\b28%\b\b\b29%\b\b\b30%\b\b\b31%\b\b\b32%\b\b\b33%\b\b\b34%\b\b\b35%\b\b\b36%\b\b\b37%\b\b\b38%\b\b\b39%\b\b\b40%\b\b\b41%\b\b\b42%\b\b\b43%\b\b\b44%\b\b\b45%\b\b\b46%\b\b\b47%\b\b\b48%\b\b\b49%\b\b\b50%\b\b\b51%\b\b\b52%\b\b\b53%\b\b\b54%\b\b\b55%\b\b\b56%\b\b\b57%\b\b\b58%\b\b\b59%\b\b\b60%\b\b\b61%\b\b\b62%\b\b\b63%\b\b\b64%\b\b\b65%\b\b\b66%\b\b\b67%\b\b\b68%\b\b\b69%\b\b\b70%\b\b\b71%\b\b\b72%\b\b\b73%\b\b\b74%\b\b\b75%\b\b\b76%\b\b\b77%\b\b\b78%\b\b\b79%\b\b\b80%\b\b\b81%\b\b\b82%\b\b\b83%\b\b\b84%\b\b\b85%\b\b\b86%\b\b\b87%\b\b\b88%\b\b\b89%\b\b\b90%\b\b\b91%\b\b\b92%\b\b\b93%\b\b\b94%\b\b\b95%\b\b\b96%\b\b\b97%\b\b\b98%\b\b\b99%\b\b\b\b done.\n",
      "Total genotyping rate is 0.977223.\n",
      "128400 variants and 3473 people pass filters and QC.\n",
      "Note: No phenotypes present.\n",
      "--score: 123581 valid predictors loaded.\n"
     ]
    },
    {
     "name": "stderr",
     "output_type": "stream",
     "text": [
      "Warning: 1 line skipped in --score file (1 due to variant ID mismatch, 0 due to\n",
      "allele code mismatch); see BMI.nopred for details.\n",
      "Warning: 1 line skipped in --q-score-range data file.\n",
      "Error: Failed to open range_list.\n"
     ]
    },
    {
     "ename": "CalledProcessError",
     "evalue": "Command 'b'plink \\\\\\n--bfile data/bmi/ld_pruned_genotype_data/LD_pruned_PLINK/P50_round2_LD_pruned_3473 \\\\\\n--score prs_profile.txt header 2 4 7 \\\\\\n--q-score-range range_list BMI.pvals \\\\\\n--extract LD_pruned.valid.snp \\\\\\n--out BMI\\n'' returned non-zero exit status 2.",
     "output_type": "error",
     "traceback": [
      "\u001b[0;31m---------------------------------------------------------------------------\u001b[0m",
      "\u001b[0;31mCalledProcessError\u001b[0m                        Traceback (most recent call last)",
      "\u001b[0;32m/tmp/ipykernel_1185/2830765314.py\u001b[0m in \u001b[0;36m<module>\u001b[0;34m\u001b[0m\n\u001b[0;32m----> 1\u001b[0;31m \u001b[0mget_ipython\u001b[0m\u001b[0;34m(\u001b[0m\u001b[0;34m)\u001b[0m\u001b[0;34m.\u001b[0m\u001b[0mrun_cell_magic\u001b[0m\u001b[0;34m(\u001b[0m\u001b[0;34m'bash'\u001b[0m\u001b[0;34m,\u001b[0m \u001b[0;34m''\u001b[0m\u001b[0;34m,\u001b[0m \u001b[0;34m'plink \\\\\\n--bfile data/bmi/ld_pruned_genotype_data/LD_pruned_PLINK/P50_round2_LD_pruned_3473 \\\\\\n--score prs_profile.txt header 2 4 7 \\\\\\n--q-score-range range_list BMI.pvals \\\\\\n--extract LD_pruned.valid.snp \\\\\\n--out BMI\\n'\u001b[0m\u001b[0;34m)\u001b[0m\u001b[0;34m\u001b[0m\u001b[0;34m\u001b[0m\u001b[0m\n\u001b[0m",
      "\u001b[0;32m/opt/conda/lib/python3.9/site-packages/IPython/core/interactiveshell.py\u001b[0m in \u001b[0;36mrun_cell_magic\u001b[0;34m(self, magic_name, line, cell)\u001b[0m\n\u001b[1;32m   2401\u001b[0m             \u001b[0;32mwith\u001b[0m \u001b[0mself\u001b[0m\u001b[0;34m.\u001b[0m\u001b[0mbuiltin_trap\u001b[0m\u001b[0;34m:\u001b[0m\u001b[0;34m\u001b[0m\u001b[0;34m\u001b[0m\u001b[0m\n\u001b[1;32m   2402\u001b[0m                 \u001b[0margs\u001b[0m \u001b[0;34m=\u001b[0m \u001b[0;34m(\u001b[0m\u001b[0mmagic_arg_s\u001b[0m\u001b[0;34m,\u001b[0m \u001b[0mcell\u001b[0m\u001b[0;34m)\u001b[0m\u001b[0;34m\u001b[0m\u001b[0;34m\u001b[0m\u001b[0m\n\u001b[0;32m-> 2403\u001b[0;31m                 \u001b[0mresult\u001b[0m \u001b[0;34m=\u001b[0m \u001b[0mfn\u001b[0m\u001b[0;34m(\u001b[0m\u001b[0;34m*\u001b[0m\u001b[0margs\u001b[0m\u001b[0;34m,\u001b[0m \u001b[0;34m**\u001b[0m\u001b[0mkwargs\u001b[0m\u001b[0;34m)\u001b[0m\u001b[0;34m\u001b[0m\u001b[0;34m\u001b[0m\u001b[0m\n\u001b[0m\u001b[1;32m   2404\u001b[0m             \u001b[0;32mreturn\u001b[0m \u001b[0mresult\u001b[0m\u001b[0;34m\u001b[0m\u001b[0;34m\u001b[0m\u001b[0m\n\u001b[1;32m   2405\u001b[0m \u001b[0;34m\u001b[0m\u001b[0m\n",
      "\u001b[0;32m/opt/conda/lib/python3.9/site-packages/IPython/core/magics/script.py\u001b[0m in \u001b[0;36mnamed_script_magic\u001b[0;34m(line, cell)\u001b[0m\n\u001b[1;32m    140\u001b[0m             \u001b[0;32melse\u001b[0m\u001b[0;34m:\u001b[0m\u001b[0;34m\u001b[0m\u001b[0;34m\u001b[0m\u001b[0m\n\u001b[1;32m    141\u001b[0m                 \u001b[0mline\u001b[0m \u001b[0;34m=\u001b[0m \u001b[0mscript\u001b[0m\u001b[0;34m\u001b[0m\u001b[0;34m\u001b[0m\u001b[0m\n\u001b[0;32m--> 142\u001b[0;31m             \u001b[0;32mreturn\u001b[0m \u001b[0mself\u001b[0m\u001b[0;34m.\u001b[0m\u001b[0mshebang\u001b[0m\u001b[0;34m(\u001b[0m\u001b[0mline\u001b[0m\u001b[0;34m,\u001b[0m \u001b[0mcell\u001b[0m\u001b[0;34m)\u001b[0m\u001b[0;34m\u001b[0m\u001b[0;34m\u001b[0m\u001b[0m\n\u001b[0m\u001b[1;32m    143\u001b[0m \u001b[0;34m\u001b[0m\u001b[0m\n\u001b[1;32m    144\u001b[0m         \u001b[0;31m# write a basic docstring:\u001b[0m\u001b[0;34m\u001b[0m\u001b[0;34m\u001b[0m\u001b[0;34m\u001b[0m\u001b[0m\n",
      "\u001b[0;32m/opt/conda/lib/python3.9/site-packages/decorator.py\u001b[0m in \u001b[0;36mfun\u001b[0;34m(*args, **kw)\u001b[0m\n\u001b[1;32m    230\u001b[0m             \u001b[0;32mif\u001b[0m \u001b[0;32mnot\u001b[0m \u001b[0mkwsyntax\u001b[0m\u001b[0;34m:\u001b[0m\u001b[0;34m\u001b[0m\u001b[0;34m\u001b[0m\u001b[0m\n\u001b[1;32m    231\u001b[0m                 \u001b[0margs\u001b[0m\u001b[0;34m,\u001b[0m \u001b[0mkw\u001b[0m \u001b[0;34m=\u001b[0m \u001b[0mfix\u001b[0m\u001b[0;34m(\u001b[0m\u001b[0margs\u001b[0m\u001b[0;34m,\u001b[0m \u001b[0mkw\u001b[0m\u001b[0;34m,\u001b[0m \u001b[0msig\u001b[0m\u001b[0;34m)\u001b[0m\u001b[0;34m\u001b[0m\u001b[0;34m\u001b[0m\u001b[0m\n\u001b[0;32m--> 232\u001b[0;31m             \u001b[0;32mreturn\u001b[0m \u001b[0mcaller\u001b[0m\u001b[0;34m(\u001b[0m\u001b[0mfunc\u001b[0m\u001b[0;34m,\u001b[0m \u001b[0;34m*\u001b[0m\u001b[0;34m(\u001b[0m\u001b[0mextras\u001b[0m \u001b[0;34m+\u001b[0m \u001b[0margs\u001b[0m\u001b[0;34m)\u001b[0m\u001b[0;34m,\u001b[0m \u001b[0;34m**\u001b[0m\u001b[0mkw\u001b[0m\u001b[0;34m)\u001b[0m\u001b[0;34m\u001b[0m\u001b[0;34m\u001b[0m\u001b[0m\n\u001b[0m\u001b[1;32m    233\u001b[0m     \u001b[0mfun\u001b[0m\u001b[0;34m.\u001b[0m\u001b[0m__name__\u001b[0m \u001b[0;34m=\u001b[0m \u001b[0mfunc\u001b[0m\u001b[0;34m.\u001b[0m\u001b[0m__name__\u001b[0m\u001b[0;34m\u001b[0m\u001b[0;34m\u001b[0m\u001b[0m\n\u001b[1;32m    234\u001b[0m     \u001b[0mfun\u001b[0m\u001b[0;34m.\u001b[0m\u001b[0m__doc__\u001b[0m \u001b[0;34m=\u001b[0m \u001b[0mfunc\u001b[0m\u001b[0;34m.\u001b[0m\u001b[0m__doc__\u001b[0m\u001b[0;34m\u001b[0m\u001b[0;34m\u001b[0m\u001b[0m\n",
      "\u001b[0;32m/opt/conda/lib/python3.9/site-packages/IPython/core/magic.py\u001b[0m in \u001b[0;36m<lambda>\u001b[0;34m(f, *a, **k)\u001b[0m\n\u001b[1;32m    185\u001b[0m     \u001b[0;31m# but it's overkill for just that one bit of state.\u001b[0m\u001b[0;34m\u001b[0m\u001b[0;34m\u001b[0m\u001b[0;34m\u001b[0m\u001b[0m\n\u001b[1;32m    186\u001b[0m     \u001b[0;32mdef\u001b[0m \u001b[0mmagic_deco\u001b[0m\u001b[0;34m(\u001b[0m\u001b[0marg\u001b[0m\u001b[0;34m)\u001b[0m\u001b[0;34m:\u001b[0m\u001b[0;34m\u001b[0m\u001b[0;34m\u001b[0m\u001b[0m\n\u001b[0;32m--> 187\u001b[0;31m         \u001b[0mcall\u001b[0m \u001b[0;34m=\u001b[0m \u001b[0;32mlambda\u001b[0m \u001b[0mf\u001b[0m\u001b[0;34m,\u001b[0m \u001b[0;34m*\u001b[0m\u001b[0ma\u001b[0m\u001b[0;34m,\u001b[0m \u001b[0;34m**\u001b[0m\u001b[0mk\u001b[0m\u001b[0;34m:\u001b[0m \u001b[0mf\u001b[0m\u001b[0;34m(\u001b[0m\u001b[0;34m*\u001b[0m\u001b[0ma\u001b[0m\u001b[0;34m,\u001b[0m \u001b[0;34m**\u001b[0m\u001b[0mk\u001b[0m\u001b[0;34m)\u001b[0m\u001b[0;34m\u001b[0m\u001b[0;34m\u001b[0m\u001b[0m\n\u001b[0m\u001b[1;32m    188\u001b[0m \u001b[0;34m\u001b[0m\u001b[0m\n\u001b[1;32m    189\u001b[0m         \u001b[0;32mif\u001b[0m \u001b[0mcallable\u001b[0m\u001b[0;34m(\u001b[0m\u001b[0marg\u001b[0m\u001b[0;34m)\u001b[0m\u001b[0;34m:\u001b[0m\u001b[0;34m\u001b[0m\u001b[0;34m\u001b[0m\u001b[0m\n",
      "\u001b[0;32m/opt/conda/lib/python3.9/site-packages/IPython/core/magics/script.py\u001b[0m in \u001b[0;36mshebang\u001b[0;34m(self, line, cell)\u001b[0m\n\u001b[1;32m    243\u001b[0m             \u001b[0msys\u001b[0m\u001b[0;34m.\u001b[0m\u001b[0mstderr\u001b[0m\u001b[0;34m.\u001b[0m\u001b[0mflush\u001b[0m\u001b[0;34m(\u001b[0m\u001b[0;34m)\u001b[0m\u001b[0;34m\u001b[0m\u001b[0;34m\u001b[0m\u001b[0m\n\u001b[1;32m    244\u001b[0m         \u001b[0;32mif\u001b[0m \u001b[0margs\u001b[0m\u001b[0;34m.\u001b[0m\u001b[0mraise_error\u001b[0m \u001b[0;32mand\u001b[0m \u001b[0mp\u001b[0m\u001b[0;34m.\u001b[0m\u001b[0mreturncode\u001b[0m\u001b[0;34m!=\u001b[0m\u001b[0;36m0\u001b[0m\u001b[0;34m:\u001b[0m\u001b[0;34m\u001b[0m\u001b[0;34m\u001b[0m\u001b[0m\n\u001b[0;32m--> 245\u001b[0;31m             \u001b[0;32mraise\u001b[0m \u001b[0mCalledProcessError\u001b[0m\u001b[0;34m(\u001b[0m\u001b[0mp\u001b[0m\u001b[0;34m.\u001b[0m\u001b[0mreturncode\u001b[0m\u001b[0;34m,\u001b[0m \u001b[0mcell\u001b[0m\u001b[0;34m,\u001b[0m \u001b[0moutput\u001b[0m\u001b[0;34m=\u001b[0m\u001b[0mout\u001b[0m\u001b[0;34m,\u001b[0m \u001b[0mstderr\u001b[0m\u001b[0;34m=\u001b[0m\u001b[0merr\u001b[0m\u001b[0;34m)\u001b[0m\u001b[0;34m\u001b[0m\u001b[0;34m\u001b[0m\u001b[0m\n\u001b[0m\u001b[1;32m    246\u001b[0m \u001b[0;34m\u001b[0m\u001b[0m\n\u001b[1;32m    247\u001b[0m     \u001b[0;32mdef\u001b[0m \u001b[0m_run_script\u001b[0m\u001b[0;34m(\u001b[0m\u001b[0mself\u001b[0m\u001b[0;34m,\u001b[0m \u001b[0mp\u001b[0m\u001b[0;34m,\u001b[0m \u001b[0mcell\u001b[0m\u001b[0;34m,\u001b[0m \u001b[0mto_close\u001b[0m\u001b[0;34m)\u001b[0m\u001b[0;34m:\u001b[0m\u001b[0;34m\u001b[0m\u001b[0;34m\u001b[0m\u001b[0m\n",
      "\u001b[0;31mCalledProcessError\u001b[0m: Command 'b'plink \\\\\\n--bfile data/bmi/ld_pruned_genotype_data/LD_pruned_PLINK/P50_round2_LD_pruned_3473 \\\\\\n--score prs_profile.txt header 2 4 7 \\\\\\n--q-score-range range_list BMI.pvals \\\\\\n--extract LD_pruned.valid.snp \\\\\\n--out BMI\\n'' returned non-zero exit status 2."
     ]
    }
   ],
   "source": [
    "%%bash\n",
    "plink \\\n",
    "--bfile data/bmi/ld_pruned_genotype_data/LD_pruned_PLINK/P50_round2_LD_pruned_3473 \\\n",
    "--score prs_profile.txt header 2 4 7 \\\n",
    "--q-score-range range_list BMI.pvals \\\n",
    "--extract LD_pruned.valid.snp \\\n",
    "--out BMI"
   ]
  },
  {
   "cell_type": "code",
   "execution_count": null,
   "id": "302ee6f2",
   "metadata": {},
   "outputs": [],
   "source": []
  }
 ],
 "metadata": {
  "kernelspec": {
   "display_name": "Python 3 (ipykernel)",
   "language": "python",
   "name": "python3"
  },
  "language_info": {
   "codemirror_mode": {
    "name": "ipython",
    "version": 3
   },
   "file_extension": ".py",
   "mimetype": "text/x-python",
   "name": "python",
   "nbconvert_exporter": "python",
   "pygments_lexer": "ipython3",
   "version": "3.9.5"
  }
 },
 "nbformat": 4,
 "nbformat_minor": 5
}
