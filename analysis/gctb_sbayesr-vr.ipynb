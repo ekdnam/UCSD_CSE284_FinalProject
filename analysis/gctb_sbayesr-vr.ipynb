{
 "cells": [
  {
   "cell_type": "markdown",
   "id": "6f655d5f",
   "metadata": {},
   "source": [
    "# GCTB SBayesR\n",
    "\n",
    "https://cnsgenomics.com/software/gctb/#SBayesRTutorial\n",
    "\n"
   ]
  },
  {
   "cell_type": "code",
   "execution_count": 3,
   "id": "8cc60c3a",
   "metadata": {},
   "outputs": [],
   "source": [
    "import numpy as np\n",
    "import pandas as pd\n",
    "import subprocess\n",
    "\n",
    "def run_bash_command(command):\n",
    "    \"\"\"\n",
    "    Execute a bash command and print the intermediate output in real-time.\n",
    "\n",
    "    Parameters:\n",
    "    - command: A string containing the bash command to be executed.\n",
    "    \"\"\"\n",
    "    # Run the command and capture the output.\n",
    "    process = subprocess.Popen(command, shell=True, stdout=subprocess.PIPE, stderr=subprocess.PIPE, text=True)\n",
    "\n",
    "    # Display standard output in real-time.\n",
    "    for line in process.stdout:\n",
    "        print(line, end='')\n",
    "\n",
    "    # Display standard error in real-time.\n",
    "    for line in process.stderr:\n",
    "        print(line, end='')\n",
    "\n",
    "    process.wait()  # Wait for the process to complete."
   ]
  },
  {
   "cell_type": "code",
   "execution_count": null,
   "id": "f990347e",
   "metadata": {},
   "outputs": [],
   "source": [
    "# %%bash\n",
    "# wget https://cnsgenomics.com/software/gctb/download/gctb_2.05beta_Linux.zip\n",
    "# unzip gctb_2.05beta_Linux.zip -d gctb_2.05beta_Linux\n",
    "# gctb_2.05beta_Linux/gctb_2.05beta_Linux/gctb"
   ]
  },
  {
   "cell_type": "code",
   "execution_count": 28,
   "id": "a10056ad",
   "metadata": {},
   "outputs": [
    {
     "name": "stdout",
     "output_type": "stream",
     "text": [
      "/home/vrothenberg/teams/group-23/UCSD_CSE284_FinalProject\r\n"
     ]
    }
   ],
   "source": [
    "!pwd"
   ]
  },
  {
   "cell_type": "markdown",
   "id": "d7fd671d",
   "metadata": {},
   "source": [
    "In this command sequence, the genotype data is being re-filtered by removing low minor allele frequency variants, specifically focusing on chromosome 1, using PLINK, resulting in a new filtered dataset stored in the directory \"ld_pruned_filtered\"."
   ]
  },
  {
   "cell_type": "code",
   "execution_count": 43,
   "id": "8c63ead4",
   "metadata": {},
   "outputs": [
    {
     "name": "stdout",
     "output_type": "stream",
     "text": [
      "PLINK v1.90b6.9 64-bit (4 Mar 2019)            www.cog-genomics.org/plink/1.9/\n",
      "(C) 2005-2019 Shaun Purcell, Christopher Chang   GNU General Public License v3\n",
      "Logging to ld_pruned_filtered/chr1.log.\n",
      "Options in effect:\n",
      "  --bfile data/bmi/ld_pruned_genotype_data/LD_pruned_PLINK/P50_round2_LD_pruned_3473\n",
      "  --chr 1\n",
      "  --maf 0.0001\n",
      "  --make-bed\n",
      "  --out ld_pruned_filtered/chr1\n",
      "\n",
      "515699 MB RAM detected; reserving 257849 MB for main workspace.\n",
      "13696 out of 128401 variants loaded from .bim file.\n",
      "3473 people (0 males, 0 females, 3473 ambiguous) loaded from .fam.\n",
      "Ambiguous sex IDs written to ld_pruned_filtered/chr1.nosex .\n",
      "Using 1 thread (no multithreaded calculations invoked).\n",
      "Before main variant filters, 3473 founders and 0 nonfounders present.\n",
      "Calculating allele frequencies... 0%\b\b1%\b\b2%\b\b3%\b\b4%\b\b5%\b\b6%\b\b7%\b\b8%\b\b9%\b\b10%\b\b\b11%\b\b\b12%\b\b\b13%\b\b\b14%\b\b\b15%\b\b\b16%\b\b\b17%\b\b\b18%\b\b\b19%\b\b\b20%\b\b\b21%\b\b\b22%\b\b\b23%\b\b\b24%\b\b\b25%\b\b\b26%\b\b\b27%\b\b\b28%\b\b\b29%\b\b\b30%\b\b\b31%\b\b\b32%\b\b\b33%\b\b\b34%\b\b\b35%\b\b\b36%\b\b\b37%\b\b\b38%\b\b\b39%\b\b\b40%\b\b\b41%\b\b\b42%\b\b\b43%\b\b\b44%\b\b\b45%\b\b\b46%\b\b\b47%\b\b\b48%\b\b\b49%\b\b\b50%\b\b\b51%\b\b\b52%\b\b\b53%\b\b\b54%\b\b\b55%\b\b\b56%\b\b\b57%\b\b\b58%\b\b\b59%\b\b\b60%\b\b\b61%\b\b\b62%\b\b\b63%\b\b\b64%\b\b\b65%\b\b\b66%\b\b\b67%\b\b\b68%\b\b\b69%\b\b\b70%\b\b\b71%\b\b\b72%\b\b\b73%\b\b\b74%\b\b\b75%\b\b\b76%\b\b\b77%\b\b\b78%\b\b\b79%\b\b\b80%\b\b\b81%\b\b\b82%\b\b\b83%\b\b\b84%\b\b\b85%\b\b\b86%\b\b\b87%\b\b\b88%\b\b\b89%\b\b\b90%\b\b\b91%\b\b\b92%\b\b\b93%\b\b\b94%\b\b\b95%\b\b\b96%\b\b\b97%\b\b\b98%\b\b\b99%\b\b\b\b done.\n",
      "Total genotyping rate is 0.977859.\n",
      "396 variants removed due to minor allele threshold(s)\n",
      "(--maf/--max-maf/--mac/--max-mac).\n",
      "13300 variants and 3473 people pass filters and QC.\n",
      "Note: No phenotypes present.\n",
      "--make-bed to ld_pruned_filtered/chr1.bed + ld_pruned_filtered/chr1.bim +\n",
      "ld_pruned_filtered/chr1.fam ... 0%\b\b1%\b\b2%\b\b3%\b\b4%\b\b5%\b\b6%\b\b7%\b\b8%\b\b9%\b\b10%\b\b\b11%\b\b\b12%\b\b\b13%\b\b\b14%\b\b\b15%\b\b\b16%\b\b\b17%\b\b\b18%\b\b\b19%\b\b\b20%\b\b\b21%\b\b\b22%\b\b\b23%\b\b\b24%\b\b\b25%\b\b\b26%\b\b\b27%\b\b\b28%\b\b\b29%\b\b\b30%\b\b\b31%\b\b\b32%\b\b\b33%\b\b\b34%\b\b\b35%\b\b\b36%\b\b\b37%\b\b\b38%\b\b\b39%\b\b\b40%\b\b\b41%\b\b\b42%\b\b\b43%\b\b\b44%\b\b\b45%\b\b\b46%\b\b\b47%\b\b\b48%\b\b\b49%\b\b\b50%\b\b\b51%\b\b\b52%\b\b\b53%\b\b\b54%\b\b\b55%\b\b\b56%\b\b\b57%\b\b\b58%\b\b\b59%\b\b\b60%\b\b\b61%\b\b\b62%\b\b\b63%\b\b\b64%\b\b\b65%\b\b\b66%\b\b\b67%\b\b\b68%\b\b\b69%\b\b\b70%\b\b\b71%\b\b\b72%\b\b\b73%\b\b\b74%\b\b\b75%\b\b\b76%\b\b\b77%\b\b\b78%\b\b\b79%\b\b\b80%\b\b\b81%\b\b\b82%\b\b\b83%\b\b\b84%\b\b\b85%\b\b\b86%\b\b\b87%\b\b\b88%\b\b\b89%\b\b\b90%\b\b\b91%\b\b\b92%\b\b\b93%\b\b\b94%\b\b\b95%\b\b\b96%\b\b\b97%\b\b\b98%\b\b\b99%\b\b\bdone.\n"
     ]
    }
   ],
   "source": [
    "%%bash\n",
    "# Re-filtering genotype data\n",
    "rm -rf ld_pruned_filtered\n",
    "mkdir ld_pruned_filtered\n",
    "plink --bfile data/bmi/ld_pruned_genotype_data/LD_pruned_PLINK/P50_round2_LD_pruned_3473 \\\n",
    "--chr 1 \\\n",
    "--make-bed \\\n",
    "--maf 0.0001 \\\n",
    "--out ld_pruned_filtered/chr1"
   ]
  },
  {
   "cell_type": "markdown",
   "id": "1f932636",
   "metadata": {},
   "source": [
    "We can see the different files being generated."
   ]
  },
  {
   "cell_type": "code",
   "execution_count": 44,
   "id": "b7184fc0",
   "metadata": {},
   "outputs": [
    {
     "name": "stdout",
     "output_type": "stream",
     "text": [
      "chr1.bed  chr1.bim  chr1.fam  chr1.log\tchr1.nosex\r\n"
     ]
    }
   ],
   "source": [
    "!ls ld_pruned_filtered"
   ]
  },
  {
   "cell_type": "markdown",
   "id": "84ab0334",
   "metadata": {},
   "source": [
    "We use PLINK to compute allele frequencies for variants present in our filtered genotype dataset, focusing on chromosome 1. The dataset is stored in the \"ld_pruned_filtered/chr1\" directory. The computed allele frequencies will be saved as an output file using the same directory structure and naming convention."
   ]
  },
  {
   "cell_type": "code",
   "execution_count": 48,
   "id": "3a044e0c",
   "metadata": {},
   "outputs": [
    {
     "name": "stdout",
     "output_type": "stream",
     "text": [
      "PLINK v1.90b6.9 64-bit (4 Mar 2019)            www.cog-genomics.org/plink/1.9/\n",
      "(C) 2005-2019 Shaun Purcell, Christopher Chang   GNU General Public License v3\n",
      "Logging to ld_pruned_filtered/chr1.log.\n",
      "Options in effect:\n",
      "  --bfile ld_pruned_filtered/chr1\n",
      "  --freq\n",
      "  --out ld_pruned_filtered/chr1\n",
      "\n",
      "515699 MB RAM detected; reserving 257849 MB for main workspace.\n",
      "13300 variants loaded from .bim file.\n",
      "3473 people (0 males, 0 females, 3473 ambiguous) loaded from .fam.\n",
      "Ambiguous sex IDs written to ld_pruned_filtered/chr1.nosex .\n",
      "Using 1 thread (no multithreaded calculations invoked).\n",
      "Before main variant filters, 3473 founders and 0 nonfounders present.\n",
      "Calculating allele frequencies... 0%\b\b1%\b\b2%\b\b3%\b\b4%\b\b5%\b\b6%\b\b7%\b\b8%\b\b9%\b\b10%\b\b\b11%\b\b\b12%\b\b\b13%\b\b\b14%\b\b\b15%\b\b\b16%\b\b\b17%\b\b\b18%\b\b\b19%\b\b\b20%\b\b\b21%\b\b\b22%\b\b\b23%\b\b\b24%\b\b\b25%\b\b\b26%\b\b\b27%\b\b\b28%\b\b\b29%\b\b\b30%\b\b\b31%\b\b\b32%\b\b\b33%\b\b\b34%\b\b\b35%\b\b\b36%\b\b\b37%\b\b\b38%\b\b\b39%\b\b\b40%\b\b\b41%\b\b\b42%\b\b\b43%\b\b\b44%\b\b\b45%\b\b\b46%\b\b\b47%\b\b\b48%\b\b\b49%\b\b\b50%\b\b\b51%\b\b\b52%\b\b\b53%\b\b\b54%\b\b\b55%\b\b\b56%\b\b\b57%\b\b\b58%\b\b\b59%\b\b\b60%\b\b\b61%\b\b\b62%\b\b\b63%\b\b\b64%\b\b\b65%\b\b\b66%\b\b\b67%\b\b\b68%\b\b\b69%\b\b\b70%\b\b\b71%\b\b\b72%\b\b\b73%\b\b\b74%\b\b\b75%\b\b\b76%\b\b\b77%\b\b\b78%\b\b\b79%\b\b\b80%\b\b\b81%\b\b\b82%\b\b\b83%\b\b\b84%\b\b\b85%\b\b\b86%\b\b\b87%\b\b\b88%\b\b\b89%\b\b\b90%\b\b\b91%\b\b\b92%\b\b\b93%\b\b\b94%\b\b\b95%\b\b\b96%\b\b\b97%\b\b\b98%\b\b\b99%\b\b\b\b done.\n",
      "Total genotyping rate is 0.977548.\n",
      "--freq: Allele frequencies (founders only) written to\n",
      "ld_pruned_filtered/chr1.frq .\n"
     ]
    }
   ],
   "source": [
    "# Missing freq file\n",
    "bash_command = \"\"\"\n",
    "bfile=ld_pruned_filtered/chr1\n",
    "plink \\\n",
    "--bfile $bfile \\\n",
    "--freq \\\n",
    "--out $bfile\n",
    "\"\"\"\n",
    "run_bash_command(bash_command)\n"
   ]
  },
  {
   "cell_type": "code",
   "execution_count": 46,
   "id": "26c64e86",
   "metadata": {},
   "outputs": [
    {
     "name": "stdout",
     "output_type": "stream",
     "text": [
      "chr1.bed  chr1.bim  chr1.fam  chr1.frq\tchr1.log  chr1.nosex\r\n"
     ]
    }
   ],
   "source": [
    "!ls ld_pruned_filtered"
   ]
  },
  {
   "cell_type": "markdown",
   "id": "d7b7a22c",
   "metadata": {},
   "source": [
    "We load the PLINK .frq file into a pandas DataFrame, extracted from our filtered genotype dataset focusing on chromosome 1. Adjustments are made to the DataFrame to conform to the required format, specifically selecting columns for SNP, allele, and minor allele frequency (MAF). Subsequently, we write this adjusted DataFrame to a new file 'ld_pruned_filtered/chr1.freq' in tab-separated format, omitting the index and header to ensure compatibility with downstream analysis tools."
   ]
  },
  {
   "cell_type": "code",
   "execution_count": 49,
   "id": "d699e1c0",
   "metadata": {},
   "outputs": [],
   "source": [
    "\n",
    "# Load the PLINK .frq file\n",
    "df = pd.read_csv('ld_pruned_filtered/chr1.frq', delim_whitespace=True)\n",
    "\n",
    "# Adjust the DataFrame to match the required format\n",
    "df_adjusted = df[['SNP', 'A1', 'MAF']]\n",
    "df_adjusted.columns = ['SNP', 'Allele', 'Frequency']\n",
    "\n",
    "# Write the adjusted DataFrame to a new file\n",
    "df_adjusted.to_csv('ld_pruned_filtered/chr1.freq', sep='\\t', index=False, header=False)\n"
   ]
  },
  {
   "cell_type": "code",
   "execution_count": 50,
   "id": "2ca23b9f",
   "metadata": {},
   "outputs": [
    {
     "name": "stdout",
     "output_type": "stream",
     "text": [
      "chr1.bed  chr1.bim  chr1.fam  chr1.freq  chr1.frq  chr1.log  chr1.nosex\r\n"
     ]
    }
   ],
   "source": [
    "!ls ld_pruned_filtered"
   ]
  },
  {
   "cell_type": "markdown",
   "id": "63e8169c",
   "metadata": {},
   "source": [
    "We set the output directory to 'gctb_sparse_ldm', removing any existing directory and creating a new one if necessary. Then, we define the dataset using the filtered genotype data from chromosome 1 stored in 'ld_pruned_filtered/chr1'. Utilizing GCTB (Genome-wide Complex Trait Bayesian analysis), we compute the sparse version of the linkage disequilibrium matrix (--make-sparse-ldm) for variants with a linkage disequilibrium threshold of 0.2 (--ld 0.2). The resulting files will be stored in the specified output directory with the prefix 'chr1'. Finally, we display the first two lines of the 'chr1.ldm.sparse.info' file to inspect the sparse linkage disequilibrium matrix information."
   ]
  },
  {
   "cell_type": "code",
   "execution_count": 55,
   "id": "0d775133",
   "metadata": {},
   "outputs": [
    {
     "name": "stdout",
     "output_type": "stream",
     "text": [
      "******************************************************************\n",
      "* GCTB 2.05beta                                                  *\n",
      "* Genome-wide Complex Trait Bayesian analysis                    *\n",
      "* Authors: Jian Zeng, Luke Lloyd-Jones, Zhili Zheng, Shouye Liu  *\n",
      "* MIT License                                                    *\n",
      "******************************************************************\n",
      "\n",
      "Analysis started: Tue Mar 12 15:15:38 2024\n",
      "\n",
      "Options:\n",
      "\n",
      "--bfile ld_pruned_filtered/chr1\n",
      "--make-sparse-ldm \n",
      "--wind 0.2\n",
      "--out gctb_sparse_ldm/chr1\n",
      "\n",
      "Reading PLINK FAM file from [ld_pruned_filtered/chr1.fam].\n",
      "3473 individuals to be included from [ld_pruned_filtered/chr1.fam].\n",
      "Reading phenotypes from [ld_pruned_filtered/chr1.fam].\n",
      "Non-missing phenotypes of trait 1 of 3473 individuals are included from [ld_pruned_filtered/chr1.fam].\n",
      "3473 matched individuals are kept.\n",
      "Reading PLINK BIM file from [ld_pruned_filtered/chr1.bim].\n",
      "13300 SNPs to be included from [ld_pruned_filtered/chr1.bim].\n",
      "13300 SNPs on 1 chromosomes are included.\n",
      "Building sparse LD matrix for all SNPs ...\n",
      "Creating windows (window width: 0Mb) ...\n",
      "SNP 0 Window Size 1\n",
      "SNP 10000 Window Size 36\n",
      "Reading PLINK BED file from [ld_pruned_filtered/chr1.bed] in SNP-major format ...\n",
      " read snp 0\n",
      " read snp 1000\n",
      " read snp 2000\n",
      " read snp 3000\n",
      " read snp 4000\n",
      " read snp 5000\n",
      " read snp 6000\n",
      " read snp 7000\n",
      " read snp 8000\n",
      " read snp 9000\n",
      " read snp 10000\n",
      " read snp 11000\n",
      " read snp 12000\n",
      " read snp 13000\n",
      "Per-SNP window size mean 4069.17 sd 1302.76.\n",
      "LD matrix diagonal mean -nan variance -nan.\n",
      "Genotype data for 3473 individuals and 13300 SNPs are included from [ld_pruned_filtered/chr1.bed].\n",
      "Build of LD matrix completed (time used: 0:2:4).\n",
      "Written the SNP info into file [gctb_sparse_ldm/chr1.ldm.sparse.info].\n",
      "Written the LD matrix into file [gctb_sparse_ldm/chr1.ldm.sparse.bin].\n",
      "\n",
      "Analysis finished: Tue Mar 12 15:17:43 2024\n",
      "Computational time: 0:2:5\n",
      " Chrom              ID     GenPos         PhysPos     A1     A2       A1Freq      Index  WindStart    WindEnd   WindSize       WindWidth          N     SamplVar        LDsum\n",
      "     1      chr1:55365          0           55365      A      T     0.059603          0          0      11715        517       261389068       3473         -nan         -nan\n"
     ]
    }
   ],
   "source": [
    "# Example usage:\n",
    "bash_command = \"\"\"\n",
    "output_dir=gctb_sparse_ldm\n",
    "rm -rf $output_dir\n",
    "mkdir -p $output_dir\n",
    "bfile=ld_pruned_filtered/chr1\n",
    "gctb_2.05beta_Linux/gctb_2.05beta_Linux/gctb \\\n",
    "--bfile $bfile \\\n",
    "--make-sparse-ldm \\\n",
    "--ld 0.2\n",
    "--out \"$output_dir/chr1\"\n",
    "head -n 2 \"$output_dir/chr1.ldm.sparse.info\"\n",
    "\"\"\"\n",
    "run_bash_command(bash_command)\n"
   ]
  },
  {
   "cell_type": "markdown",
   "id": "4e341fad",
   "metadata": {},
   "source": [
    "We designate the output directory as 'gctb_full_ldm', ensuring any existing directory is removed and a new one is created if needed. Next, we define the dataset using the filtered genotype data from chromosome 1 stored in 'ld_pruned_filtered/chr1'. Employing GCTB, we compute the full version of the linkage disequilibrium matrix (--make-full-ldm) for variants with a linkage disequilibrium threshold of 0.1 (--ld 0.1). The resulting files will be stored in the specified output directory with the prefix 'chr1'."
   ]
  },
  {
   "cell_type": "code",
   "execution_count": 60,
   "id": "dc163ee1",
   "metadata": {},
   "outputs": [
    {
     "name": "stdout",
     "output_type": "stream",
     "text": [
      "******************************************************************\n",
      "* GCTB 2.05beta                                                  *\n",
      "* Genome-wide Complex Trait Bayesian analysis                    *\n",
      "* Authors: Jian Zeng, Luke Lloyd-Jones, Zhili Zheng, Shouye Liu  *\n",
      "* MIT License                                                    *\n",
      "******************************************************************\n",
      "\n",
      "Analysis started: Tue Mar 12 15:23:22 2024\n",
      "\n",
      "Options:\n",
      "\n",
      "--bfile ld_pruned_filtered/chr1\n",
      "--make-full-ldm \n",
      "--ld 0.1\n",
      "\n",
      "Reading PLINK FAM file from [ld_pruned_filtered/chr1.fam].\n",
      "3473 individuals to be included from [ld_pruned_filtered/chr1.fam].\n",
      "Reading phenotypes from [ld_pruned_filtered/chr1.fam].\n",
      "Non-missing phenotypes of trait 1 of 3473 individuals are included from [ld_pruned_filtered/chr1.fam].\n",
      "3473 matched individuals are kept.\n",
      "Reading PLINK BIM file from [ld_pruned_filtered/chr1.bim].\n",
      "13300 SNPs to be included from [ld_pruned_filtered/chr1.bim].\n",
      "13300 SNPs on 1 chromosomes are included.\n",
      "Building full LD matrix for all SNPs ...\n",
      "Reading PLINK BED file from [ld_pruned_filtered/chr1.bed] in SNP-major format ...\n",
      " read snp 0\n",
      " read snp 1000\n",
      " read snp 2000\n",
      " read snp 3000\n",
      " read snp 4000\n",
      " read snp 5000\n",
      " read snp 6000\n",
      " read snp 7000\n",
      " read snp 8000\n",
      " read snp 9000\n",
      " read snp 10000\n",
      " read snp 11000\n",
      " read snp 12000\n",
      " read snp 13000\n",
      "Per-SNP window size mean 13300 sd 0.\n",
      "LD matrix diagonal mean -nan variance -nan.\n",
      "Genotype data for 3473 individuals and 13300 SNPs are included from [ld_pruned_filtered/chr1.bed].\n",
      "Build of LD matrix completed (time used: 0:1:50).\n",
      "Written the SNP info into file [gctb.ldm.full.info].\n",
      "Written the LD matrix into file [gctb.ldm.full.bin].\n",
      "\n",
      "Analysis finished: Tue Mar 12 15:25:14 2024\n",
      "Computational time: 0:1:52\n",
      "/bin/sh: 7: --out: not found\n"
     ]
    }
   ],
   "source": [
    "# Trying full\n",
    "bash_command = \"\"\"\n",
    "output_dir=gctb_full_ldm\n",
    "rm -rf $output_dir\n",
    "mkdir -p $output_dir\n",
    "bfile=ld_pruned_filtered/chr1\n",
    "gctb_2.05beta_Linux/gctb_2.05beta_Linux/gctb \\\n",
    "--bfile $bfile \\\n",
    "--make-full-ldm \\\n",
    "--ld 0.1\n",
    "--out \"$output_dir/chr1\"\n",
    "\n",
    "\"\"\"\n",
    "run_bash_command(bash_command)"
   ]
  },
  {
   "cell_type": "markdown",
   "id": "b065a596",
   "metadata": {},
   "source": [
    "\n",
    "We check the new generate file `gctb_full_ldm/chr1.ldm.full.info`.\n",
    "\n",
    "The output provides detailed information about each variant included in the linkage disequilibrium matrix computed using GCTB. Here's a closer look at what each column signifies:\n",
    "\n",
    "- **Chrom (Chromosome)**: Indicates the chromosome number where the variant is located.\n",
    "- **ID (Variant Identifier)**: Uniquely identifies each variant in the dataset.\n",
    "- **GenPos (Genetic Position)**: Represents the genetic position of the variant.\n",
    "- **PhysPos (Physical Position)**: Denotes the physical position of the variant along the chromosome.\n",
    "- **A1 (Allele 1)** and **A2 (Allele 2)**: Indicate the two alleles present at the variant locus.\n",
    "- **A1Freq (Allele 1 Frequency)**: Specifies the frequency of Allele 1 in the sample population.\n",
    "- **Index**: Index value assigned to the variant.\n",
    "- **WindStart (Window Start)** and **WindEnd (Window End)**: Define the start and end positions of the genomic window associated with the variant.\n",
    "- **WindSize (Window Size)**: Represents the size of the genomic window.\n",
    "- **WindWidth (Window Width)**: Denotes the width of the genomic window.\n",
    "- **N (Number of Samples)**: Indicates the total number of samples considered in the analysis.\n",
    "- **SamplVar (Sample Variance)**: Represents the sample variance associated with the variant.\n",
    "- **LDsum (Linkage Disequilibrium Sum)**: Provides information about the linkage disequilibrium sum for the variant.\n",
    "\n",
    "This detailed output offers insights into the genetic characteristics of the variants, including their frequency distribution, physical and genetic positions, and their relationship with neighboring variants within the genomic window."
   ]
  },
  {
   "cell_type": "code",
   "execution_count": 59,
   "id": "3f38c2ce",
   "metadata": {},
   "outputs": [
    {
     "name": "stdout",
     "output_type": "stream",
     "text": [
      " Chrom              ID     GenPos         PhysPos     A1     A2       A1Freq      Index  WindStart    WindEnd   WindSize       WindWidth          N     SamplVar        LDsum\r\n",
      "     1      chr1:55365          0           55365      A      T     0.059603          0          0      13299      13300       282506249       3473         -nan         -nan\r\n",
      "     1     chr1:275972          0          275972      A      T     0.489346          1          0      13299      13300       282506249       3473         -nan         -nan\r\n",
      "     1     chr1:475912          0          475912      T      C     0.493953          2          0      13299      13300       282506249       3473         -nan         -nan\r\n",
      "     1     chr1:759319          0          759319      C      T     0.466456          3          0      13299      13300       282506249       3473         -nan         -nan\r\n",
      "     1     chr1:835524          0          835524      T      C     0.351137          4          0      13299      13300       282506249       3473         -nan         -nan\r\n",
      "     1     chr1:923940          0          923940      G      C     0.065505          5          0      13299      13300       282506249       3473         -nan         -nan\r\n",
      "     1    chr1:1129973          0         1129973      C      T     0.005996          6          0      13299      13300       282506249       3473         -nan         -nan\r\n",
      "     1    chr1:1131973          0         1131973      C      T     0.414339          7          0      13299      13300       282506249       3473         -nan         -nan\r\n",
      "     1    chr1:1132321          0         1132321      C      A     0.393372          8          0      13299      13300       282506249       3473         -nan         -nan\r\n"
     ]
    }
   ],
   "source": [
    "!head -n 10 gctb_full_ldm/chr1.ldm.full.info"
   ]
  },
  {
   "cell_type": "code",
   "execution_count": 32,
   "id": "10c4c194",
   "metadata": {},
   "outputs": [
    {
     "name": "stdout",
     "output_type": "stream",
     "text": [
      "******************************************************************\n",
      "* GCTB 2.05beta                                                  *\n",
      "* Genome-wide Complex Trait Bayesian analysis                    *\n",
      "* Authors: Jian Zeng, Luke Lloyd-Jones, Zhili Zheng, Shouye Liu  *\n",
      "* MIT License                                                    *\n",
      "******************************************************************\n",
      "\n",
      "Analysis started: Tue Mar 12 03:21:39 2024\n",
      "\n",
      "Options:\n",
      "\n",
      "--sbayes R\n",
      "--bfile ./data/bmi/gctb_genotype_data/P50_round2_LD_pruned_3473\n",
      "--gwas-summary ./GCTA_COJO/physiological_bmi_bodylength_w_tail.ma\n",
      "\n",
      "Reading PLINK FAM file from [./data/bmi/gctb_genotype_data/P50_round2_LD_pruned_3473.fam].\n",
      "3473 individuals to be included from [./data/bmi/gctb_genotype_data/P50_round2_LD_pruned_3473.fam].\n",
      "Reading PLINK BIM file from [./data/bmi/gctb_genotype_data/P50_round2_LD_pruned_3473.bim].\n",
      "123673 SNPs to be included from [./data/bmi/gctb_genotype_data/P50_round2_LD_pruned_3473.bim].\n",
      "Reading GWAS summary data from [./GCTA_COJO/physiological_bmi_bodylength_w_tail.ma].\n"
     ]
    },
    {
     "name": "stderr",
     "output_type": "stream",
     "text": [
      "bash: line 3:   432 Segmentation fault      (core dumped) gctb_2.05beta_Linux/gctb_2.05beta_Linux/gctb --sbayes R --bfile ./data/bmi/gctb_genotype_data/P50_round2_LD_pruned_3473 --gwas-summary ./GCTA_COJO/physiological_bmi_bodylength_w_tail.ma\n"
     ]
    },
    {
     "ename": "CalledProcessError",
     "evalue": "Command 'b'gctb_2.05beta_Linux/gctb_2.05beta_Linux/gctb --sbayes R \\\\\\n--bfile ./data/bmi/gctb_genotype_data/P50_round2_LD_pruned_3473 \\\\\\n--gwas-summary ./GCTA_COJO/physiological_bmi_bodylength_w_tail.ma\\n'' returned non-zero exit status 139.",
     "output_type": "error",
     "traceback": [
      "\u001b[0;31m---------------------------------------------------------------------------\u001b[0m",
      "\u001b[0;31mCalledProcessError\u001b[0m                        Traceback (most recent call last)",
      "\u001b[0;32m/tmp/ipykernel_123/2966854636.py\u001b[0m in \u001b[0;36m<module>\u001b[0;34m\u001b[0m\n\u001b[0;32m----> 1\u001b[0;31m \u001b[0mget_ipython\u001b[0m\u001b[0;34m(\u001b[0m\u001b[0;34m)\u001b[0m\u001b[0;34m.\u001b[0m\u001b[0mrun_cell_magic\u001b[0m\u001b[0;34m(\u001b[0m\u001b[0;34m'bash'\u001b[0m\u001b[0;34m,\u001b[0m \u001b[0;34m''\u001b[0m\u001b[0;34m,\u001b[0m \u001b[0;34m'gctb_2.05beta_Linux/gctb_2.05beta_Linux/gctb --sbayes R \\\\\\n--bfile ./data/bmi/gctb_genotype_data/P50_round2_LD_pruned_3473 \\\\\\n--gwas-summary ./GCTA_COJO/physiological_bmi_bodylength_w_tail.ma\\n'\u001b[0m\u001b[0;34m)\u001b[0m\u001b[0;34m\u001b[0m\u001b[0;34m\u001b[0m\u001b[0m\n\u001b[0m",
      "\u001b[0;32m/opt/conda/lib/python3.9/site-packages/IPython/core/interactiveshell.py\u001b[0m in \u001b[0;36mrun_cell_magic\u001b[0;34m(self, magic_name, line, cell)\u001b[0m\n\u001b[1;32m   2401\u001b[0m             \u001b[0;32mwith\u001b[0m \u001b[0mself\u001b[0m\u001b[0;34m.\u001b[0m\u001b[0mbuiltin_trap\u001b[0m\u001b[0;34m:\u001b[0m\u001b[0;34m\u001b[0m\u001b[0;34m\u001b[0m\u001b[0m\n\u001b[1;32m   2402\u001b[0m                 \u001b[0margs\u001b[0m \u001b[0;34m=\u001b[0m \u001b[0;34m(\u001b[0m\u001b[0mmagic_arg_s\u001b[0m\u001b[0;34m,\u001b[0m \u001b[0mcell\u001b[0m\u001b[0;34m)\u001b[0m\u001b[0;34m\u001b[0m\u001b[0;34m\u001b[0m\u001b[0m\n\u001b[0;32m-> 2403\u001b[0;31m                 \u001b[0mresult\u001b[0m \u001b[0;34m=\u001b[0m \u001b[0mfn\u001b[0m\u001b[0;34m(\u001b[0m\u001b[0;34m*\u001b[0m\u001b[0margs\u001b[0m\u001b[0;34m,\u001b[0m \u001b[0;34m**\u001b[0m\u001b[0mkwargs\u001b[0m\u001b[0;34m)\u001b[0m\u001b[0;34m\u001b[0m\u001b[0;34m\u001b[0m\u001b[0m\n\u001b[0m\u001b[1;32m   2404\u001b[0m             \u001b[0;32mreturn\u001b[0m \u001b[0mresult\u001b[0m\u001b[0;34m\u001b[0m\u001b[0;34m\u001b[0m\u001b[0m\n\u001b[1;32m   2405\u001b[0m \u001b[0;34m\u001b[0m\u001b[0m\n",
      "\u001b[0;32m/opt/conda/lib/python3.9/site-packages/IPython/core/magics/script.py\u001b[0m in \u001b[0;36mnamed_script_magic\u001b[0;34m(line, cell)\u001b[0m\n\u001b[1;32m    140\u001b[0m             \u001b[0;32melse\u001b[0m\u001b[0;34m:\u001b[0m\u001b[0;34m\u001b[0m\u001b[0;34m\u001b[0m\u001b[0m\n\u001b[1;32m    141\u001b[0m                 \u001b[0mline\u001b[0m \u001b[0;34m=\u001b[0m \u001b[0mscript\u001b[0m\u001b[0;34m\u001b[0m\u001b[0;34m\u001b[0m\u001b[0m\n\u001b[0;32m--> 142\u001b[0;31m             \u001b[0;32mreturn\u001b[0m \u001b[0mself\u001b[0m\u001b[0;34m.\u001b[0m\u001b[0mshebang\u001b[0m\u001b[0;34m(\u001b[0m\u001b[0mline\u001b[0m\u001b[0;34m,\u001b[0m \u001b[0mcell\u001b[0m\u001b[0;34m)\u001b[0m\u001b[0;34m\u001b[0m\u001b[0;34m\u001b[0m\u001b[0m\n\u001b[0m\u001b[1;32m    143\u001b[0m \u001b[0;34m\u001b[0m\u001b[0m\n\u001b[1;32m    144\u001b[0m         \u001b[0;31m# write a basic docstring:\u001b[0m\u001b[0;34m\u001b[0m\u001b[0;34m\u001b[0m\u001b[0;34m\u001b[0m\u001b[0m\n",
      "\u001b[0;32m/opt/conda/lib/python3.9/site-packages/decorator.py\u001b[0m in \u001b[0;36mfun\u001b[0;34m(*args, **kw)\u001b[0m\n\u001b[1;32m    230\u001b[0m             \u001b[0;32mif\u001b[0m \u001b[0;32mnot\u001b[0m \u001b[0mkwsyntax\u001b[0m\u001b[0;34m:\u001b[0m\u001b[0;34m\u001b[0m\u001b[0;34m\u001b[0m\u001b[0m\n\u001b[1;32m    231\u001b[0m                 \u001b[0margs\u001b[0m\u001b[0;34m,\u001b[0m \u001b[0mkw\u001b[0m \u001b[0;34m=\u001b[0m \u001b[0mfix\u001b[0m\u001b[0;34m(\u001b[0m\u001b[0margs\u001b[0m\u001b[0;34m,\u001b[0m \u001b[0mkw\u001b[0m\u001b[0;34m,\u001b[0m \u001b[0msig\u001b[0m\u001b[0;34m)\u001b[0m\u001b[0;34m\u001b[0m\u001b[0;34m\u001b[0m\u001b[0m\n\u001b[0;32m--> 232\u001b[0;31m             \u001b[0;32mreturn\u001b[0m \u001b[0mcaller\u001b[0m\u001b[0;34m(\u001b[0m\u001b[0mfunc\u001b[0m\u001b[0;34m,\u001b[0m \u001b[0;34m*\u001b[0m\u001b[0;34m(\u001b[0m\u001b[0mextras\u001b[0m \u001b[0;34m+\u001b[0m \u001b[0margs\u001b[0m\u001b[0;34m)\u001b[0m\u001b[0;34m,\u001b[0m \u001b[0;34m**\u001b[0m\u001b[0mkw\u001b[0m\u001b[0;34m)\u001b[0m\u001b[0;34m\u001b[0m\u001b[0;34m\u001b[0m\u001b[0m\n\u001b[0m\u001b[1;32m    233\u001b[0m     \u001b[0mfun\u001b[0m\u001b[0;34m.\u001b[0m\u001b[0m__name__\u001b[0m \u001b[0;34m=\u001b[0m \u001b[0mfunc\u001b[0m\u001b[0;34m.\u001b[0m\u001b[0m__name__\u001b[0m\u001b[0;34m\u001b[0m\u001b[0;34m\u001b[0m\u001b[0m\n\u001b[1;32m    234\u001b[0m     \u001b[0mfun\u001b[0m\u001b[0;34m.\u001b[0m\u001b[0m__doc__\u001b[0m \u001b[0;34m=\u001b[0m \u001b[0mfunc\u001b[0m\u001b[0;34m.\u001b[0m\u001b[0m__doc__\u001b[0m\u001b[0;34m\u001b[0m\u001b[0;34m\u001b[0m\u001b[0m\n",
      "\u001b[0;32m/opt/conda/lib/python3.9/site-packages/IPython/core/magic.py\u001b[0m in \u001b[0;36m<lambda>\u001b[0;34m(f, *a, **k)\u001b[0m\n\u001b[1;32m    185\u001b[0m     \u001b[0;31m# but it's overkill for just that one bit of state.\u001b[0m\u001b[0;34m\u001b[0m\u001b[0;34m\u001b[0m\u001b[0;34m\u001b[0m\u001b[0m\n\u001b[1;32m    186\u001b[0m     \u001b[0;32mdef\u001b[0m \u001b[0mmagic_deco\u001b[0m\u001b[0;34m(\u001b[0m\u001b[0marg\u001b[0m\u001b[0;34m)\u001b[0m\u001b[0;34m:\u001b[0m\u001b[0;34m\u001b[0m\u001b[0;34m\u001b[0m\u001b[0m\n\u001b[0;32m--> 187\u001b[0;31m         \u001b[0mcall\u001b[0m \u001b[0;34m=\u001b[0m \u001b[0;32mlambda\u001b[0m \u001b[0mf\u001b[0m\u001b[0;34m,\u001b[0m \u001b[0;34m*\u001b[0m\u001b[0ma\u001b[0m\u001b[0;34m,\u001b[0m \u001b[0;34m**\u001b[0m\u001b[0mk\u001b[0m\u001b[0;34m:\u001b[0m \u001b[0mf\u001b[0m\u001b[0;34m(\u001b[0m\u001b[0;34m*\u001b[0m\u001b[0ma\u001b[0m\u001b[0;34m,\u001b[0m \u001b[0;34m**\u001b[0m\u001b[0mk\u001b[0m\u001b[0;34m)\u001b[0m\u001b[0;34m\u001b[0m\u001b[0;34m\u001b[0m\u001b[0m\n\u001b[0m\u001b[1;32m    188\u001b[0m \u001b[0;34m\u001b[0m\u001b[0m\n\u001b[1;32m    189\u001b[0m         \u001b[0;32mif\u001b[0m \u001b[0mcallable\u001b[0m\u001b[0;34m(\u001b[0m\u001b[0marg\u001b[0m\u001b[0;34m)\u001b[0m\u001b[0;34m:\u001b[0m\u001b[0;34m\u001b[0m\u001b[0;34m\u001b[0m\u001b[0m\n",
      "\u001b[0;32m/opt/conda/lib/python3.9/site-packages/IPython/core/magics/script.py\u001b[0m in \u001b[0;36mshebang\u001b[0;34m(self, line, cell)\u001b[0m\n\u001b[1;32m    243\u001b[0m             \u001b[0msys\u001b[0m\u001b[0;34m.\u001b[0m\u001b[0mstderr\u001b[0m\u001b[0;34m.\u001b[0m\u001b[0mflush\u001b[0m\u001b[0;34m(\u001b[0m\u001b[0;34m)\u001b[0m\u001b[0;34m\u001b[0m\u001b[0;34m\u001b[0m\u001b[0m\n\u001b[1;32m    244\u001b[0m         \u001b[0;32mif\u001b[0m \u001b[0margs\u001b[0m\u001b[0;34m.\u001b[0m\u001b[0mraise_error\u001b[0m \u001b[0;32mand\u001b[0m \u001b[0mp\u001b[0m\u001b[0;34m.\u001b[0m\u001b[0mreturncode\u001b[0m\u001b[0;34m!=\u001b[0m\u001b[0;36m0\u001b[0m\u001b[0;34m:\u001b[0m\u001b[0;34m\u001b[0m\u001b[0;34m\u001b[0m\u001b[0m\n\u001b[0;32m--> 245\u001b[0;31m             \u001b[0;32mraise\u001b[0m \u001b[0mCalledProcessError\u001b[0m\u001b[0;34m(\u001b[0m\u001b[0mp\u001b[0m\u001b[0;34m.\u001b[0m\u001b[0mreturncode\u001b[0m\u001b[0;34m,\u001b[0m \u001b[0mcell\u001b[0m\u001b[0;34m,\u001b[0m \u001b[0moutput\u001b[0m\u001b[0;34m=\u001b[0m\u001b[0mout\u001b[0m\u001b[0;34m,\u001b[0m \u001b[0mstderr\u001b[0m\u001b[0;34m=\u001b[0m\u001b[0merr\u001b[0m\u001b[0;34m)\u001b[0m\u001b[0;34m\u001b[0m\u001b[0;34m\u001b[0m\u001b[0m\n\u001b[0m\u001b[1;32m    246\u001b[0m \u001b[0;34m\u001b[0m\u001b[0m\n\u001b[1;32m    247\u001b[0m     \u001b[0;32mdef\u001b[0m \u001b[0m_run_script\u001b[0m\u001b[0;34m(\u001b[0m\u001b[0mself\u001b[0m\u001b[0;34m,\u001b[0m \u001b[0mp\u001b[0m\u001b[0;34m,\u001b[0m \u001b[0mcell\u001b[0m\u001b[0;34m,\u001b[0m \u001b[0mto_close\u001b[0m\u001b[0;34m)\u001b[0m\u001b[0;34m:\u001b[0m\u001b[0;34m\u001b[0m\u001b[0;34m\u001b[0m\u001b[0m\n",
      "\u001b[0;31mCalledProcessError\u001b[0m: Command 'b'gctb_2.05beta_Linux/gctb_2.05beta_Linux/gctb --sbayes R \\\\\\n--bfile ./data/bmi/gctb_genotype_data/P50_round2_LD_pruned_3473 \\\\\\n--gwas-summary ./GCTA_COJO/physiological_bmi_bodylength_w_tail.ma\\n'' returned non-zero exit status 139."
     ]
    }
   ],
   "source": [
    "%%bash\n",
    "gctb_2.05beta_Linux/gctb_2.05beta_Linux/gctb --sbayes R \\\n",
    "--bfile ./data/bmi/gctb_genotype_data/P50_round2_LD_pruned_3473 \\\n",
    "--gwas-summary ./GCTA_COJO/physiological_bmi_bodylength_w_tail.ma"
   ]
  },
  {
   "cell_type": "code",
   "execution_count": 50,
   "id": "9c0fd83c",
   "metadata": {},
   "outputs": [
    {
     "name": "stdout",
     "output_type": "stream",
     "text": [
      "PLINK v1.90b6.9 64-bit (4 Mar 2019)            www.cog-genomics.org/plink/1.9/\n",
      "(C) 2005-2019 Shaun Purcell, Christopher Chang   GNU General Public License v3\n",
      "Logging to bed_dir/out.log.\n",
      "Options in effect:\n",
      "  --bfile ./data/bmi/ld_pruned_genotype_data/LD_pruned_PLINK/P50_round2_LD_pruned_3473\n",
      "  --exclude gctb_snps_to_exclude.txt\n",
      "  --make-bed\n",
      "  --out bed_dir/out\n",
      "\n",
      "515699 MB RAM detected; reserving 257849 MB for main workspace.\n",
      "128401 variants loaded from .bim file.\n",
      "3473 people (0 males, 0 females, 3473 ambiguous) loaded from .fam.\n",
      "Ambiguous sex IDs written to bed_dir/out.nosex .\n",
      "--exclude: 71796 variants remaining.\n",
      "Using 1 thread (no multithreaded calculations invoked).\n",
      "Before main variant filters, 3473 founders and 0 nonfounders present.\n",
      "Calculating allele frequencies... 0%\b\b1%\b\b2%\b\b3%\b\b4%\b\b5%\b\b6%\b\b7%\b\b8%\b\b9%\b\b10%\b\b\b11%\b\b\b12%\b\b\b13%\b\b\b14%\b\b\b15%\b\b\b16%\b\b\b17%\b\b\b18%\b\b\b19%\b\b\b20%\b\b\b21%\b\b\b22%\b\b\b23%\b\b\b24%\b\b\b25%\b\b\b26%\b\b\b27%\b\b\b28%\b\b\b29%\b\b\b30%\b\b\b31%\b\b\b32%\b\b\b33%\b\b\b34%\b\b\b35%\b\b\b36%\b\b\b37%\b\b\b38%\b\b\b39%\b\b\b40%\b\b\b41%\b\b\b42%\b\b\b43%\b\b\b44%\b\b\b45%\b\b\b46%\b\b\b47%\b\b\b48%\b\b\b49%\b\b\b50%\b\b\b51%\b\b\b52%\b\b\b53%\b\b\b54%\b\b\b55%\b\b\b56%\b\b\b57%\b\b\b58%\b\b\b59%\b\b\b60%\b\b\b61%\b\b\b62%\b\b\b63%\b\b\b64%\b\b\b65%\b\b\b66%\b\b\b67%\b\b\b68%\b\b\b69%\b\b\b70%\b\b\b71%\b\b\b72%\b\b\b73%\b\b\b74%\b\b\b75%\b\b\b76%\b\b\b77%\b\b\b78%\b\b\b79%\b\b\b80%\b\b\b81%\b\b\b82%\b\b\b83%\b\b\b84%\b\b\b85%\b\b\b86%\b\b\b87%\b\b\b88%\b\b\b89%\b\b\b90%\b\b\b91%\b\b\b92%\b\b\b93%\b\b\b94%\b\b\b95%\b\b\b96%\b\b\b97%\b\b\b98%\b\b\b99%\b\b\b\b done.\n",
      "Total genotyping rate is 0.972862.\n",
      "71796 variants and 3473 people pass filters and QC.\n",
      "Note: No phenotypes present.\n",
      "--make-bed to bed_dir/out.bed + bed_dir/out.bim + bed_dir/out.fam ... 0%\b\b1%\b\b2%\b\b3%\b\b4%\b\b5%\b\b6%\b\b7%\b\b8%\b\b9%\b\b10%\b\b\b11%\b\b\b12%\b\b\b13%\b\b\b14%\b\b\b15%\b\b\b16%\b\b\b17%\b\b\b18%\b\b\b19%\b\b\b20%\b\b\b21%\b\b\b22%\b\b\b23%\b\b\b24%\b\b\b25%\b\b\b26%\b\b\b27%\b\b\b28%\b\b\b29%\b\b\b30%\b\b\b31%\b\b\b32%\b\b\b33%\b\b\b34%\b\b\b35%\b\b\b36%\b\b\b37%\b\b\b38%\b\b\b39%\b\b\b40%\b\b\b41%\b\b\b42%\b\b\b43%\b\b\b44%\b\b\b45%\b\b\b46%\b\b\b47%\b\b\b48%\b\b\b49%\b\b\b50%\b\b\b51%\b\b\b52%\b\b\b53%\b\b\b54%\b\b\b55%\b\b\b56%\b\b\b57%\b\b\b58%\b\b\b59%\b\b\b60%\b\b\b61%\b\b\b62%\b\b\b63%\b\b\b64%\b\b\b65%\b\b\b66%\b\b\b67%\b\b\b68%\b\b\b69%\b\b\b70%\b\b\b71%\b\b\b72%\b\b\b73%\b\b\b74%\b\b\b75%\b\b\b76%\b\b\b77%\b\b\b78%\b\b\b79%\b\b\b80%\b\b\b81%\b\b\b82%\b\b\b83%\b\b\b84%\b\b\b85%\b\b\b86%\b\b\b87%\b\b\b88%\b\b\b89%\b\b\b90%\b\b\b91%\b\b\b92%\b\b\b93%\b\b\b94%\b\b\b95%\b\b\b96%\b\b\b97%\b\b\b98%\b\b\b99%\b\b\bdone.\n"
     ]
    }
   ],
   "source": [
    "%%bash\n",
    "plink \\\n",
    "--bfile ./data/bmi/ld_pruned_genotype_data/LD_pruned_PLINK/P50_round2_LD_pruned_3473 \\\n",
    "--exclude gctb_snps_to_exclude.txt \\\n",
    "--make-bed \\\n",
    "--out bed_dir/out"
   ]
  },
  {
   "cell_type": "code",
   "execution_count": 51,
   "id": "e4aa72d1",
   "metadata": {},
   "outputs": [],
   "source": [
    "# !mkdir ./bed_dir"
   ]
  },
  {
   "cell_type": "code",
   "execution_count": 52,
   "id": "7ae9bb20",
   "metadata": {},
   "outputs": [],
   "source": [
    "# !plink --bfile ./data/bmi/gctb_genotype_data/P50_round2_LD_pruned_3473 --make-bed --out ./bed_dir/out"
   ]
  },
  {
   "cell_type": "code",
   "execution_count": 53,
   "id": "97597890",
   "metadata": {},
   "outputs": [
    {
     "name": "stdout",
     "output_type": "stream",
     "text": [
      "Process is terminated.\n"
     ]
    }
   ],
   "source": [
    "%%bash\n",
    "gctb_2.05beta_Linux/gctb_2.05beta_Linux/gctb \\\n",
    "--bfile ./bed_dir/out \\\n",
    "--make-sparse-ldm \\\n",
    "--out custom_sparse_matrix_data/gctb"
   ]
  },
  {
   "cell_type": "code",
   "execution_count": 33,
   "id": "cff0251c",
   "metadata": {},
   "outputs": [],
   "source": [
    "!mkdir custom_sparse_matrix_data"
   ]
  },
  {
   "cell_type": "code",
   "execution_count": 16,
   "id": "3da65149",
   "metadata": {},
   "outputs": [],
   "source": [
    "import pandas as pd"
   ]
  },
  {
   "cell_type": "code",
   "execution_count": 17,
   "id": "b6054dc2",
   "metadata": {},
   "outputs": [],
   "source": [
    "df = pd.read_csv('data/bmi/gwas_summary_files/physiological_bmi_bodylength_w_tail.csv')"
   ]
  },
  {
   "cell_type": "code",
   "execution_count": 18,
   "id": "74f2b7d4",
   "metadata": {},
   "outputs": [
    {
     "data": {
      "text/html": [
       "<div>\n",
       "<style scoped>\n",
       "    .dataframe tbody tr th:only-of-type {\n",
       "        vertical-align: middle;\n",
       "    }\n",
       "\n",
       "    .dataframe tbody tr th {\n",
       "        vertical-align: top;\n",
       "    }\n",
       "\n",
       "    .dataframe thead th {\n",
       "        text-align: right;\n",
       "    }\n",
       "</style>\n",
       "<table border=\"1\" class=\"dataframe\">\n",
       "  <thead>\n",
       "    <tr style=\"text-align: right;\">\n",
       "      <th></th>\n",
       "      <th>chr</th>\n",
       "      <th>rs</th>\n",
       "      <th>ps</th>\n",
       "      <th>n_miss</th>\n",
       "      <th>allele1</th>\n",
       "      <th>allele0</th>\n",
       "      <th>af</th>\n",
       "      <th>beta</th>\n",
       "      <th>se</th>\n",
       "      <th>logl_H1</th>\n",
       "      <th>l_remle</th>\n",
       "      <th>l_mle</th>\n",
       "      <th>p_wald</th>\n",
       "      <th>p_lrt</th>\n",
       "      <th>p_score</th>\n",
       "    </tr>\n",
       "  </thead>\n",
       "  <tbody>\n",
       "    <tr>\n",
       "      <th>0</th>\n",
       "      <td>chr10</td>\n",
       "      <td>chr10:149435</td>\n",
       "      <td>149435</td>\n",
       "      <td>0</td>\n",
       "      <td>T</td>\n",
       "      <td>C</td>\n",
       "      <td>0.876</td>\n",
       "      <td>-0.016290</td>\n",
       "      <td>0.042265</td>\n",
       "      <td>-4326.415</td>\n",
       "      <td>1.332775</td>\n",
       "      <td>1.333718</td>\n",
       "      <td>0.699948</td>\n",
       "      <td>0.699824</td>\n",
       "      <td>0.699854</td>\n",
       "    </tr>\n",
       "    <tr>\n",
       "      <th>1</th>\n",
       "      <td>chr10</td>\n",
       "      <td>chr10:767532</td>\n",
       "      <td>767532</td>\n",
       "      <td>0</td>\n",
       "      <td>C</td>\n",
       "      <td>T</td>\n",
       "      <td>0.611</td>\n",
       "      <td>0.006059</td>\n",
       "      <td>0.028462</td>\n",
       "      <td>-4326.467</td>\n",
       "      <td>1.332503</td>\n",
       "      <td>1.333593</td>\n",
       "      <td>0.831419</td>\n",
       "      <td>0.831345</td>\n",
       "      <td>0.831359</td>\n",
       "    </tr>\n",
       "    <tr>\n",
       "      <th>2</th>\n",
       "      <td>chr10</td>\n",
       "      <td>chr10:790368</td>\n",
       "      <td>790368</td>\n",
       "      <td>0</td>\n",
       "      <td>A</td>\n",
       "      <td>G</td>\n",
       "      <td>0.487</td>\n",
       "      <td>-0.004377</td>\n",
       "      <td>0.027795</td>\n",
       "      <td>-4326.477</td>\n",
       "      <td>1.332693</td>\n",
       "      <td>1.333571</td>\n",
       "      <td>0.874868</td>\n",
       "      <td>0.874812</td>\n",
       "      <td>0.874822</td>\n",
       "    </tr>\n",
       "    <tr>\n",
       "      <th>3</th>\n",
       "      <td>chr10</td>\n",
       "      <td>chr10:811265</td>\n",
       "      <td>811265</td>\n",
       "      <td>0</td>\n",
       "      <td>C</td>\n",
       "      <td>T</td>\n",
       "      <td>0.876</td>\n",
       "      <td>-0.014988</td>\n",
       "      <td>0.042217</td>\n",
       "      <td>-4326.427</td>\n",
       "      <td>1.332774</td>\n",
       "      <td>1.333704</td>\n",
       "      <td>0.722596</td>\n",
       "      <td>0.722480</td>\n",
       "      <td>0.722507</td>\n",
       "    </tr>\n",
       "    <tr>\n",
       "      <th>4</th>\n",
       "      <td>chr10</td>\n",
       "      <td>chr10:823144</td>\n",
       "      <td>823144</td>\n",
       "      <td>0</td>\n",
       "      <td>A</td>\n",
       "      <td>G</td>\n",
       "      <td>0.618</td>\n",
       "      <td>-0.003029</td>\n",
       "      <td>0.029571</td>\n",
       "      <td>-4326.485</td>\n",
       "      <td>1.332296</td>\n",
       "      <td>1.333446</td>\n",
       "      <td>0.918433</td>\n",
       "      <td>0.918427</td>\n",
       "      <td>0.918434</td>\n",
       "    </tr>\n",
       "  </tbody>\n",
       "</table>\n",
       "</div>"
      ],
      "text/plain": [
       "     chr            rs      ps  n_miss allele1 allele0     af      beta  \\\n",
       "0  chr10  chr10:149435  149435       0       T       C  0.876 -0.016290   \n",
       "1  chr10  chr10:767532  767532       0       C       T  0.611  0.006059   \n",
       "2  chr10  chr10:790368  790368       0       A       G  0.487 -0.004377   \n",
       "3  chr10  chr10:811265  811265       0       C       T  0.876 -0.014988   \n",
       "4  chr10  chr10:823144  823144       0       A       G  0.618 -0.003029   \n",
       "\n",
       "         se   logl_H1   l_remle     l_mle    p_wald     p_lrt   p_score  \n",
       "0  0.042265 -4326.415  1.332775  1.333718  0.699948  0.699824  0.699854  \n",
       "1  0.028462 -4326.467  1.332503  1.333593  0.831419  0.831345  0.831359  \n",
       "2  0.027795 -4326.477  1.332693  1.333571  0.874868  0.874812  0.874822  \n",
       "3  0.042217 -4326.427  1.332774  1.333704  0.722596  0.722480  0.722507  \n",
       "4  0.029571 -4326.485  1.332296  1.333446  0.918433  0.918427  0.918434  "
      ]
     },
     "execution_count": 18,
     "metadata": {},
     "output_type": "execute_result"
    }
   ],
   "source": [
    "df.head()"
   ]
  },
  {
   "cell_type": "code",
   "execution_count": 20,
   "id": "230b0828",
   "metadata": {},
   "outputs": [],
   "source": [
    "new_df = df[['ps', 'allele1', 'allele1', 'beta', 'se', 'p_score']]"
   ]
  },
  {
   "cell_type": "code",
   "execution_count": 21,
   "id": "fe3a8111",
   "metadata": {},
   "outputs": [],
   "source": [
    "new_df = new_df.rename(columns = {\n",
    "    'ps': 'SNP',\n",
    "    'allele0': 'A1',\n",
    "    'allele1': 'A2',\n",
    "    'af': 'freq',\n",
    "    'beta': 'b',\n",
    "    'p_score': 'p'\n",
    "})"
   ]
  },
  {
   "cell_type": "code",
   "execution_count": 22,
   "id": "ecf42445",
   "metadata": {},
   "outputs": [],
   "source": [
    "new_df['N'] = 3473"
   ]
  },
  {
   "cell_type": "code",
   "execution_count": 23,
   "id": "e1d7689b",
   "metadata": {},
   "outputs": [
    {
     "data": {
      "text/html": [
       "<div>\n",
       "<style scoped>\n",
       "    .dataframe tbody tr th:only-of-type {\n",
       "        vertical-align: middle;\n",
       "    }\n",
       "\n",
       "    .dataframe tbody tr th {\n",
       "        vertical-align: top;\n",
       "    }\n",
       "\n",
       "    .dataframe thead th {\n",
       "        text-align: right;\n",
       "    }\n",
       "</style>\n",
       "<table border=\"1\" class=\"dataframe\">\n",
       "  <thead>\n",
       "    <tr style=\"text-align: right;\">\n",
       "      <th></th>\n",
       "      <th>SNP</th>\n",
       "      <th>A2</th>\n",
       "      <th>A2</th>\n",
       "      <th>b</th>\n",
       "      <th>se</th>\n",
       "      <th>p</th>\n",
       "      <th>N</th>\n",
       "    </tr>\n",
       "  </thead>\n",
       "  <tbody>\n",
       "    <tr>\n",
       "      <th>0</th>\n",
       "      <td>149435</td>\n",
       "      <td>T</td>\n",
       "      <td>T</td>\n",
       "      <td>-0.016290</td>\n",
       "      <td>0.042265</td>\n",
       "      <td>0.699854</td>\n",
       "      <td>3473</td>\n",
       "    </tr>\n",
       "    <tr>\n",
       "      <th>1</th>\n",
       "      <td>767532</td>\n",
       "      <td>C</td>\n",
       "      <td>C</td>\n",
       "      <td>0.006059</td>\n",
       "      <td>0.028462</td>\n",
       "      <td>0.831359</td>\n",
       "      <td>3473</td>\n",
       "    </tr>\n",
       "    <tr>\n",
       "      <th>2</th>\n",
       "      <td>790368</td>\n",
       "      <td>A</td>\n",
       "      <td>A</td>\n",
       "      <td>-0.004377</td>\n",
       "      <td>0.027795</td>\n",
       "      <td>0.874822</td>\n",
       "      <td>3473</td>\n",
       "    </tr>\n",
       "    <tr>\n",
       "      <th>3</th>\n",
       "      <td>811265</td>\n",
       "      <td>C</td>\n",
       "      <td>C</td>\n",
       "      <td>-0.014988</td>\n",
       "      <td>0.042217</td>\n",
       "      <td>0.722507</td>\n",
       "      <td>3473</td>\n",
       "    </tr>\n",
       "    <tr>\n",
       "      <th>4</th>\n",
       "      <td>823144</td>\n",
       "      <td>A</td>\n",
       "      <td>A</td>\n",
       "      <td>-0.003029</td>\n",
       "      <td>0.029571</td>\n",
       "      <td>0.918434</td>\n",
       "      <td>3473</td>\n",
       "    </tr>\n",
       "    <tr>\n",
       "      <th>...</th>\n",
       "      <td>...</td>\n",
       "      <td>...</td>\n",
       "      <td>...</td>\n",
       "      <td>...</td>\n",
       "      <td>...</td>\n",
       "      <td>...</td>\n",
       "      <td>...</td>\n",
       "    </tr>\n",
       "    <tr>\n",
       "      <th>123577</th>\n",
       "      <td>99975834</td>\n",
       "      <td>C</td>\n",
       "      <td>C</td>\n",
       "      <td>0.020609</td>\n",
       "      <td>0.045388</td>\n",
       "      <td>0.649804</td>\n",
       "      <td>3473</td>\n",
       "    </tr>\n",
       "    <tr>\n",
       "      <th>123578</th>\n",
       "      <td>99987154</td>\n",
       "      <td>G</td>\n",
       "      <td>G</td>\n",
       "      <td>-0.059860</td>\n",
       "      <td>0.052312</td>\n",
       "      <td>0.252662</td>\n",
       "      <td>3473</td>\n",
       "    </tr>\n",
       "    <tr>\n",
       "      <th>123579</th>\n",
       "      <td>99989918</td>\n",
       "      <td>C</td>\n",
       "      <td>C</td>\n",
       "      <td>-0.088255</td>\n",
       "      <td>0.029432</td>\n",
       "      <td>0.002763</td>\n",
       "      <td>3473</td>\n",
       "    </tr>\n",
       "    <tr>\n",
       "      <th>123580</th>\n",
       "      <td>99993827</td>\n",
       "      <td>C</td>\n",
       "      <td>C</td>\n",
       "      <td>-0.081868</td>\n",
       "      <td>0.031653</td>\n",
       "      <td>0.009799</td>\n",
       "      <td>3473</td>\n",
       "    </tr>\n",
       "    <tr>\n",
       "      <th>123581</th>\n",
       "      <td>99999782</td>\n",
       "      <td>G</td>\n",
       "      <td>G</td>\n",
       "      <td>0.081539</td>\n",
       "      <td>0.027593</td>\n",
       "      <td>0.003182</td>\n",
       "      <td>3473</td>\n",
       "    </tr>\n",
       "  </tbody>\n",
       "</table>\n",
       "<p>123582 rows × 7 columns</p>\n",
       "</div>"
      ],
      "text/plain": [
       "             SNP A2 A2         b        se         p     N\n",
       "0         149435  T  T -0.016290  0.042265  0.699854  3473\n",
       "1         767532  C  C  0.006059  0.028462  0.831359  3473\n",
       "2         790368  A  A -0.004377  0.027795  0.874822  3473\n",
       "3         811265  C  C -0.014988  0.042217  0.722507  3473\n",
       "4         823144  A  A -0.003029  0.029571  0.918434  3473\n",
       "...          ... .. ..       ...       ...       ...   ...\n",
       "123577  99975834  C  C  0.020609  0.045388  0.649804  3473\n",
       "123578  99987154  G  G -0.059860  0.052312  0.252662  3473\n",
       "123579  99989918  C  C -0.088255  0.029432  0.002763  3473\n",
       "123580  99993827  C  C -0.081868  0.031653  0.009799  3473\n",
       "123581  99999782  G  G  0.081539  0.027593  0.003182  3473\n",
       "\n",
       "[123582 rows x 7 columns]"
      ]
     },
     "execution_count": 23,
     "metadata": {},
     "output_type": "execute_result"
    }
   ],
   "source": [
    "new_df"
   ]
  },
  {
   "cell_type": "code",
   "execution_count": 24,
   "id": "e1695c43",
   "metadata": {},
   "outputs": [],
   "source": [
    "new_df.to_csv('gctb_summary_stat.ma', index=False)"
   ]
  },
  {
   "cell_type": "code",
   "execution_count": null,
   "id": "51a43f50",
   "metadata": {},
   "outputs": [],
   "source": []
  }
 ],
 "metadata": {
  "kernelspec": {
   "display_name": "Python 3 (ipykernel)",
   "language": "python",
   "name": "python3"
  },
  "language_info": {
   "codemirror_mode": {
    "name": "ipython",
    "version": 3
   },
   "file_extension": ".py",
   "mimetype": "text/x-python",
   "name": "python",
   "nbconvert_exporter": "python",
   "pygments_lexer": "ipython3",
   "version": "3.9.5"
  }
 },
 "nbformat": 4,
 "nbformat_minor": 5
}
