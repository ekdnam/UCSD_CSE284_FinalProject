{
 "cells": [
  {
   "cell_type": "code",
   "execution_count": 9,
   "id": "b744d317",
   "metadata": {},
   "outputs": [
    {
     "name": "stdout",
     "output_type": "stream",
     "text": [
      "novel_object_totaldistance\t0.003\n",
      "novel_object_dist2ctrmean\t0.0\n",
      "novel_object_dist2ctrtotal\t0.001\n",
      "novel_object_cntrdurat\t0.0\n",
      "novel_object_cntrfreq\t0.001\n",
      "novel_object_cntrlate\t0.0\n",
      "open_field_totaldistance\t0.006\n",
      "open_field_dist2ctrmean\t0.001\n",
      "open_field_dist2ctrtotal\t0.0\n",
      "open_field_cntrdurat\t0.0\n",
      "open_field_cntrfreq\t0.003\n",
      "open_field_cntrlate\t0.0\n",
      "social_interaction_totaldistance\t0.001\n",
      "social_interaction_dist2objzonemean\t0.002\n",
      "social_interaction_dist2objzonetotal\t0.001\n",
      "social_interaction_dist2socmean\t0.011\n",
      "social_interaction_dist2soctotal\t0.012\n",
      "social_interaction_inobjzonedura\t0.001\n",
      "social_interaction_inobjzonefreq\t0.014\n",
      "social_interaction_inobjzonelate\t0.0\n",
      "social_interaction_insoczonedura\t0.008\n",
      "social_interaction_insoczonefreq\t0.003\n",
      "social_interaction_insoczonelate\t0.002\n"
     ]
    }
   ],
   "source": [
    "import pandas as pd\n",
    "import scipy.stats\n",
    "\n",
    "phenotype_csv = pd.read_csv('./data/oft/phenotypes.csv')\n",
    "\n",
    "columns = phenotype_csv.columns[1:]\n",
    "\n",
    "\n",
    "curr_r2s = []\n",
    "for col in columns:\n",
    "#     print(f'Processing {col}')\n",
    "    prs = pd.read_csv(f\"./prsice_data/PRSice_custom_pvalue.best\", delim_whitespace=True)\n",
    "    phen = pd.read_csv('./data/oft/phenotypes.csv')\n",
    "    phen = phen[['rfid', col]]\n",
    "    phen = phen.rename(columns={'rfid': 'IID', col: 'phen'})\n",
    "    phen = phen.dropna()\n",
    "    d = pd.merge(prs, phen, on=[\"IID\"])\n",
    "    curr_r2 = scipy.stats.pearsonr(d[\"phen\"],d[\"PRS\"])[0]**2\n",
    "    print(f'{col}\\t{round(curr_r2, 3)}')\n",
    "    curr_r2s.append(curr_r2)"
   ]
  },
  {
   "cell_type": "code",
   "execution_count": 10,
   "id": "ca7ffb6e",
   "metadata": {},
   "outputs": [],
   "source": [
    "df = pd.DataFrame()\n",
    "df['cols'] = columns\n",
    "df['r2'] = curr_r2s"
   ]
  },
  {
   "cell_type": "code",
   "execution_count": 11,
   "id": "80788cf9",
   "metadata": {},
   "outputs": [],
   "source": [
    "df.to_csv('prsice_data.csv', index=False)"
   ]
  },
  {
   "cell_type": "code",
   "execution_count": null,
   "id": "2424d531",
   "metadata": {},
   "outputs": [],
   "source": []
  }
 ],
 "metadata": {
  "kernelspec": {
   "display_name": "Python 3 (ipykernel)",
   "language": "python",
   "name": "python3"
  },
  "language_info": {
   "codemirror_mode": {
    "name": "ipython",
    "version": 3
   },
   "file_extension": ".py",
   "mimetype": "text/x-python",
   "name": "python",
   "nbconvert_exporter": "python",
   "pygments_lexer": "ipython3",
   "version": "3.9.5"
  }
 },
 "nbformat": 4,
 "nbformat_minor": 5
}
